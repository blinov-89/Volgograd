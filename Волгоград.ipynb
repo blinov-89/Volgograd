{
  "nbformat": 4,
  "nbformat_minor": 0,
  "metadata": {
    "colab": {
      "name": "Волгоград.ipynb",
      "provenance": [],
      "mount_file_id": "1sPz4yKOx6YFeKGxUL_-Dds7ZjTNxwtRu",
      "authorship_tag": "ABX9TyPqfSNfCJtQgFXUOgs7kXQo",
      "include_colab_link": true
    },
    "kernelspec": {
      "name": "python3",
      "display_name": "Python 3"
    },
    "language_info": {
      "name": "python"
    }
  },
  "cells": [
    {
      "cell_type": "markdown",
      "metadata": {
        "id": "view-in-github",
        "colab_type": "text"
      },
      "source": [
        "<a href=\"https://colab.research.google.com/github/blinov-89/Volgograd/blob/main/%D0%92%D0%BE%D0%BB%D0%B3%D0%BE%D0%B3%D1%80%D0%B0%D0%B4.ipynb\" target=\"_parent\"><img src=\"https://colab.research.google.com/assets/colab-badge.svg\" alt=\"Open In Colab\"/></a>"
      ]
    },
    {
      "cell_type": "markdown",
      "source": [
        "# Библиотеки"
      ],
      "metadata": {
        "id": "1zfBVzD5eWBf"
      }
    },
    {
      "cell_type": "code",
      "source": [
        "from google.colab import drive\n",
        "drive.mount('/content/drive')"
      ],
      "metadata": {
        "colab": {
          "base_uri": "https://localhost:8080/"
        },
        "id": "nmk1Zs60n_Uc",
        "outputId": "5cccf04e-7648-4531-f532-d04f51374aec"
      },
      "execution_count": null,
      "outputs": [
        {
          "output_type": "stream",
          "name": "stdout",
          "text": [
            "Drive already mounted at /content/drive; to attempt to forcibly remount, call drive.mount(\"/content/drive\", force_remount=True).\n"
          ]
        }
      ]
    },
    {
      "cell_type": "code",
      "source": [
        "import pandas as pd"
      ],
      "metadata": {
        "id": "NhjHSV-IoLPD"
      },
      "execution_count": null,
      "outputs": []
    },
    {
      "cell_type": "code",
      "source": [
        "import seaborn as sns\n",
        "import matplotlib.pyplot as plt"
      ],
      "metadata": {
        "id": "hN7uJPEZKMfh"
      },
      "execution_count": null,
      "outputs": []
    },
    {
      "cell_type": "markdown",
      "source": [
        "# загрузка датасетов"
      ],
      "metadata": {
        "id": "TDUFc88bkZCs"
      }
    },
    {
      "cell_type": "code",
      "source": [
        "df0620 = pd.read_excel(\"/content/drive/MyDrive/Волгоград ИИ/ДатаСет ЧС (XLS)/ДатаСет ЧС (XLS)/01-06.2020 (1).xlsx\")"
      ],
      "metadata": {
        "id": "M2QjiIk7n09T"
      },
      "execution_count": null,
      "outputs": []
    },
    {
      "cell_type": "code",
      "source": [
        "df0621 = pd.read_excel(\"/content/drive/MyDrive/Волгоград ИИ/ДатаСет ЧС (XLS)/ДатаСет ЧС (XLS)/01-06.2021 (1).xlsx\")"
      ],
      "metadata": {
        "id": "44Fm0fhoPQfO"
      },
      "execution_count": null,
      "outputs": []
    },
    {
      "cell_type": "code",
      "source": [
        "df0919 = pd.read_excel(\"/content/drive/MyDrive/Волгоград ИИ/ДатаСет ЧС (XLS)/ДатаСет ЧС (XLS)/01-09.2019 (1).xlsx\")"
      ],
      "metadata": {
        "id": "r7-soDfvPoDs"
      },
      "execution_count": null,
      "outputs": []
    },
    {
      "cell_type": "code",
      "source": [
        "df1220 = pd.read_excel(\"/content/drive/MyDrive/Волгоград ИИ/ДатаСет ЧС (XLS)/ДатаСет ЧС (XLS)/07-12.2020 (1).xlsx\")"
      ],
      "metadata": {
        "id": "MSepnFD4PoIP"
      },
      "execution_count": null,
      "outputs": []
    },
    {
      "cell_type": "code",
      "source": [
        "df1221 = pd.read_excel(\"/content/drive/MyDrive/Волгоград ИИ/ДатаСет ЧС (XLS)/ДатаСет ЧС (XLS)/07-12.2021 (1).xlsx\")"
      ],
      "metadata": {
        "id": "29jyFS0RPoMH"
      },
      "execution_count": null,
      "outputs": []
    },
    {
      "cell_type": "code",
      "source": [
        "df1219 = pd.read_excel(\"/content/drive/MyDrive/Волгоград ИИ/ДатаСет ЧС (XLS)/ДатаСет ЧС (XLS)/10-12.2019 (1).xlsx\")"
      ],
      "metadata": {
        "id": "16A0N_EHWk-W"
      },
      "execution_count": null,
      "outputs": []
    },
    {
      "cell_type": "markdown",
      "source": [
        "# Обработка"
      ],
      "metadata": {
        "id": "05dWf_AMkcON"
      }
    },
    {
      "cell_type": "code",
      "source": [
        "new_header = df0620.iloc[0].str.strip() #grab the first row for the header\n",
        "df0620 = df0620[1:] #take the data less the header row\n",
        "df0620.columns = new_header #set the header row as the df header"
      ],
      "metadata": {
        "id": "gVenYa4ziWwv"
      },
      "execution_count": null,
      "outputs": []
    },
    {
      "cell_type": "code",
      "source": [
        "df0620.head(3)"
      ],
      "metadata": {
        "colab": {
          "base_uri": "https://localhost:8080/"
        },
        "id": "ITIODsAUyovx",
        "outputId": "be439ccc-f085-4a79-9882-95ed6af8ca59"
      },
      "execution_count": null,
      "outputs": [
        {
          "output_type": "execute_result",
          "data": {
            "text/plain": [
              "0    cdPn    cgPn                       hrId  \\\n",
              "1  [NULL]  [NULL]  янв21_СлучНабор_070         \n",
              "2  [NULL]  [NULL]  янв14_Молчание_488          \n",
              "3  [NULL]  [NULL]  янв15_Молчание_418          \n",
              "\n",
              "0                                               name  \\\n",
              "1  Случайный набор номера                        ...   \n",
              "2  Вызов с молчанием                             ...   \n",
              "3  Вызов с молчанием                             ...   \n",
              "\n",
              "0                                               type   ierId    level  \\\n",
              "1  Случайный набор номера                        ...  [NULL]  Обычный   \n",
              "2  Вызов с молчанием                             ...  [NULL]  Обычный   \n",
              "3  Вызов с молчанием                             ...  [NULL]  Обычный   \n",
              "\n",
              "0                                              point  \\\n",
              "1  [NULL]                                        ...   \n",
              "2  [{\"lat\": 48.7458, \"lon\": 44.816}]             ...   \n",
              "3  [{\"lat\": 48.4808, \"lon\": 45.046}]             ...   \n",
              "\n",
              "0                       state  action                                cardId  \\\n",
              "1  Карточка закрыта            [NULL]  78cab6b3-8ded-43e1-a1df-ab49009cb500   \n",
              "2  Карточка закрыта            [NULL]  5c2b8b11-f56a-46cf-a86f-ab4201016101   \n",
              "3  Карточка закрыта            [NULL]  7176c1b6-de84-42d7-aa1e-ab4300ce8947   \n",
              "\n",
              "0  isNear                       region  ierType  cityCode  isDanger  isDanger  \\\n",
              "1  [NULL]  Волгоград                    [NULL]   [NULL]    [NULL]    false      \n",
              "2  [NULL]  Волгоград                    [NULL]   [NULL]    [NULL]    false      \n",
              "3  [NULL]  Волгоград                    [NULL]   [NULL]    [NULL]    false      \n",
              "\n",
              "0 regionId  cityFiasId  isBlocking  isMalicius lostNumber  \\\n",
              "1        1  [NULL]      false       [NULL]              0   \n",
              "2        1  [NULL]      false       [NULL]              0   \n",
              "3        1  [NULL]      false       [NULL]              0   \n",
              "\n",
              "0                                         membership  streetCode  \\\n",
              "1                                                ...  [NULL]       \n",
              "2                                                ...  [NULL]       \n",
              "3                                                ...  [NULL]       \n",
              "\n",
              "0               timeIsoStr  isChemFlood  dispatchesId  districtCode  \\\n",
              "1  2020-01-21T09:30:33.000  false        [NULL]        [NULL]         \n",
              "2  2020-01-14T15:37:05.000  false        [NULL]        [NULL]         \n",
              "3  2020-01-15T12:31:58.000  false        [NULL]        [NULL]         \n",
              "\n",
              "0  streetFiasId  clarification injuredNumber responseStatus  actionTimeIsoStr  \\\n",
              "1  [NULL]        [NULL]                    0            200  [NULL]             \n",
              "2  [NULL]        [NULL]                    0            200  [NULL]             \n",
              "3  [NULL]        [NULL]                    0            200  [NULL]             \n",
              "\n",
              "0         assignTimeIsoStr  acceptOperatorFio  acceptOperatorStr NaN NaN NaN  \\\n",
              "1  [NULL]                   [NULL]             [NULL]            NaN NaN NaN   \n",
              "2  [NULL]                   [NULL]             [NULL]            NaN NaN NaN   \n",
              "3  [NULL]                   [NULL]             [NULL]            NaN NaN NaN   \n",
              "\n",
              "0  NaN  \n",
              "1  NaN  \n",
              "2  NaN  \n",
              "3  NaN  "
            ],
            "text/html": [
              "\n",
              "  <div id=\"df-b51edd53-adcb-4c35-8b35-eb9d953b4692\">\n",
              "    <div class=\"colab-df-container\">\n",
              "      <div>\n",
              "<style scoped>\n",
              "    .dataframe tbody tr th:only-of-type {\n",
              "        vertical-align: middle;\n",
              "    }\n",
              "\n",
              "    .dataframe tbody tr th {\n",
              "        vertical-align: top;\n",
              "    }\n",
              "\n",
              "    .dataframe thead th {\n",
              "        text-align: right;\n",
              "    }\n",
              "</style>\n",
              "<table border=\"1\" class=\"dataframe\">\n",
              "  <thead>\n",
              "    <tr style=\"text-align: right;\">\n",
              "      <th></th>\n",
              "      <th>cdPn</th>\n",
              "      <th>cgPn</th>\n",
              "      <th>hrId</th>\n",
              "      <th>name</th>\n",
              "      <th>type</th>\n",
              "      <th>ierId</th>\n",
              "      <th>level</th>\n",
              "      <th>point</th>\n",
              "      <th>state</th>\n",
              "      <th>action</th>\n",
              "      <th>cardId</th>\n",
              "      <th>isNear</th>\n",
              "      <th>region</th>\n",
              "      <th>ierType</th>\n",
              "      <th>cityCode</th>\n",
              "      <th>isDanger</th>\n",
              "      <th>isDanger</th>\n",
              "      <th>regionId</th>\n",
              "      <th>cityFiasId</th>\n",
              "      <th>isBlocking</th>\n",
              "      <th>isMalicius</th>\n",
              "      <th>lostNumber</th>\n",
              "      <th>membership</th>\n",
              "      <th>streetCode</th>\n",
              "      <th>timeIsoStr</th>\n",
              "      <th>isChemFlood</th>\n",
              "      <th>dispatchesId</th>\n",
              "      <th>districtCode</th>\n",
              "      <th>streetFiasId</th>\n",
              "      <th>clarification</th>\n",
              "      <th>injuredNumber</th>\n",
              "      <th>responseStatus</th>\n",
              "      <th>actionTimeIsoStr</th>\n",
              "      <th>assignTimeIsoStr</th>\n",
              "      <th>acceptOperatorFio</th>\n",
              "      <th>acceptOperatorStr</th>\n",
              "      <th>NaN</th>\n",
              "      <th>NaN</th>\n",
              "      <th>NaN</th>\n",
              "      <th>NaN</th>\n",
              "    </tr>\n",
              "  </thead>\n",
              "  <tbody>\n",
              "    <tr>\n",
              "      <th>1</th>\n",
              "      <td>[NULL]</td>\n",
              "      <td>[NULL]</td>\n",
              "      <td>янв21_СлучНабор_070</td>\n",
              "      <td>Случайный набор номера                        ...</td>\n",
              "      <td>Случайный набор номера                        ...</td>\n",
              "      <td>[NULL]</td>\n",
              "      <td>Обычный</td>\n",
              "      <td>[NULL]                                        ...</td>\n",
              "      <td>Карточка закрыта</td>\n",
              "      <td>[NULL]</td>\n",
              "      <td>78cab6b3-8ded-43e1-a1df-ab49009cb500</td>\n",
              "      <td>[NULL]</td>\n",
              "      <td>Волгоград</td>\n",
              "      <td>[NULL]</td>\n",
              "      <td>[NULL]</td>\n",
              "      <td>[NULL]</td>\n",
              "      <td>false</td>\n",
              "      <td>1</td>\n",
              "      <td>[NULL]</td>\n",
              "      <td>false</td>\n",
              "      <td>[NULL]</td>\n",
              "      <td>0</td>\n",
              "      <td>...</td>\n",
              "      <td>[NULL]</td>\n",
              "      <td>2020-01-21T09:30:33.000</td>\n",
              "      <td>false</td>\n",
              "      <td>[NULL]</td>\n",
              "      <td>[NULL]</td>\n",
              "      <td>[NULL]</td>\n",
              "      <td>[NULL]</td>\n",
              "      <td>0</td>\n",
              "      <td>200</td>\n",
              "      <td>[NULL]</td>\n",
              "      <td>[NULL]</td>\n",
              "      <td>[NULL]</td>\n",
              "      <td>[NULL]</td>\n",
              "      <td>NaN</td>\n",
              "      <td>NaN</td>\n",
              "      <td>NaN</td>\n",
              "      <td>NaN</td>\n",
              "    </tr>\n",
              "    <tr>\n",
              "      <th>2</th>\n",
              "      <td>[NULL]</td>\n",
              "      <td>[NULL]</td>\n",
              "      <td>янв14_Молчание_488</td>\n",
              "      <td>Вызов с молчанием                             ...</td>\n",
              "      <td>Вызов с молчанием                             ...</td>\n",
              "      <td>[NULL]</td>\n",
              "      <td>Обычный</td>\n",
              "      <td>[{\"lat\": 48.7458, \"lon\": 44.816}]             ...</td>\n",
              "      <td>Карточка закрыта</td>\n",
              "      <td>[NULL]</td>\n",
              "      <td>5c2b8b11-f56a-46cf-a86f-ab4201016101</td>\n",
              "      <td>[NULL]</td>\n",
              "      <td>Волгоград</td>\n",
              "      <td>[NULL]</td>\n",
              "      <td>[NULL]</td>\n",
              "      <td>[NULL]</td>\n",
              "      <td>false</td>\n",
              "      <td>1</td>\n",
              "      <td>[NULL]</td>\n",
              "      <td>false</td>\n",
              "      <td>[NULL]</td>\n",
              "      <td>0</td>\n",
              "      <td>...</td>\n",
              "      <td>[NULL]</td>\n",
              "      <td>2020-01-14T15:37:05.000</td>\n",
              "      <td>false</td>\n",
              "      <td>[NULL]</td>\n",
              "      <td>[NULL]</td>\n",
              "      <td>[NULL]</td>\n",
              "      <td>[NULL]</td>\n",
              "      <td>0</td>\n",
              "      <td>200</td>\n",
              "      <td>[NULL]</td>\n",
              "      <td>[NULL]</td>\n",
              "      <td>[NULL]</td>\n",
              "      <td>[NULL]</td>\n",
              "      <td>NaN</td>\n",
              "      <td>NaN</td>\n",
              "      <td>NaN</td>\n",
              "      <td>NaN</td>\n",
              "    </tr>\n",
              "    <tr>\n",
              "      <th>3</th>\n",
              "      <td>[NULL]</td>\n",
              "      <td>[NULL]</td>\n",
              "      <td>янв15_Молчание_418</td>\n",
              "      <td>Вызов с молчанием                             ...</td>\n",
              "      <td>Вызов с молчанием                             ...</td>\n",
              "      <td>[NULL]</td>\n",
              "      <td>Обычный</td>\n",
              "      <td>[{\"lat\": 48.4808, \"lon\": 45.046}]             ...</td>\n",
              "      <td>Карточка закрыта</td>\n",
              "      <td>[NULL]</td>\n",
              "      <td>7176c1b6-de84-42d7-aa1e-ab4300ce8947</td>\n",
              "      <td>[NULL]</td>\n",
              "      <td>Волгоград</td>\n",
              "      <td>[NULL]</td>\n",
              "      <td>[NULL]</td>\n",
              "      <td>[NULL]</td>\n",
              "      <td>false</td>\n",
              "      <td>1</td>\n",
              "      <td>[NULL]</td>\n",
              "      <td>false</td>\n",
              "      <td>[NULL]</td>\n",
              "      <td>0</td>\n",
              "      <td>...</td>\n",
              "      <td>[NULL]</td>\n",
              "      <td>2020-01-15T12:31:58.000</td>\n",
              "      <td>false</td>\n",
              "      <td>[NULL]</td>\n",
              "      <td>[NULL]</td>\n",
              "      <td>[NULL]</td>\n",
              "      <td>[NULL]</td>\n",
              "      <td>0</td>\n",
              "      <td>200</td>\n",
              "      <td>[NULL]</td>\n",
              "      <td>[NULL]</td>\n",
              "      <td>[NULL]</td>\n",
              "      <td>[NULL]</td>\n",
              "      <td>NaN</td>\n",
              "      <td>NaN</td>\n",
              "      <td>NaN</td>\n",
              "      <td>NaN</td>\n",
              "    </tr>\n",
              "  </tbody>\n",
              "</table>\n",
              "</div>\n",
              "      <button class=\"colab-df-convert\" onclick=\"convertToInteractive('df-b51edd53-adcb-4c35-8b35-eb9d953b4692')\"\n",
              "              title=\"Convert this dataframe to an interactive table.\"\n",
              "              style=\"display:none;\">\n",
              "        \n",
              "  <svg xmlns=\"http://www.w3.org/2000/svg\" height=\"24px\"viewBox=\"0 0 24 24\"\n",
              "       width=\"24px\">\n",
              "    <path d=\"M0 0h24v24H0V0z\" fill=\"none\"/>\n",
              "    <path d=\"M18.56 5.44l.94 2.06.94-2.06 2.06-.94-2.06-.94-.94-2.06-.94 2.06-2.06.94zm-11 1L8.5 8.5l.94-2.06 2.06-.94-2.06-.94L8.5 2.5l-.94 2.06-2.06.94zm10 10l.94 2.06.94-2.06 2.06-.94-2.06-.94-.94-2.06-.94 2.06-2.06.94z\"/><path d=\"M17.41 7.96l-1.37-1.37c-.4-.4-.92-.59-1.43-.59-.52 0-1.04.2-1.43.59L10.3 9.45l-7.72 7.72c-.78.78-.78 2.05 0 2.83L4 21.41c.39.39.9.59 1.41.59.51 0 1.02-.2 1.41-.59l7.78-7.78 2.81-2.81c.8-.78.8-2.07 0-2.86zM5.41 20L4 18.59l7.72-7.72 1.47 1.35L5.41 20z\"/>\n",
              "  </svg>\n",
              "      </button>\n",
              "      \n",
              "  <style>\n",
              "    .colab-df-container {\n",
              "      display:flex;\n",
              "      flex-wrap:wrap;\n",
              "      gap: 12px;\n",
              "    }\n",
              "\n",
              "    .colab-df-convert {\n",
              "      background-color: #E8F0FE;\n",
              "      border: none;\n",
              "      border-radius: 50%;\n",
              "      cursor: pointer;\n",
              "      display: none;\n",
              "      fill: #1967D2;\n",
              "      height: 32px;\n",
              "      padding: 0 0 0 0;\n",
              "      width: 32px;\n",
              "    }\n",
              "\n",
              "    .colab-df-convert:hover {\n",
              "      background-color: #E2EBFA;\n",
              "      box-shadow: 0px 1px 2px rgba(60, 64, 67, 0.3), 0px 1px 3px 1px rgba(60, 64, 67, 0.15);\n",
              "      fill: #174EA6;\n",
              "    }\n",
              "\n",
              "    [theme=dark] .colab-df-convert {\n",
              "      background-color: #3B4455;\n",
              "      fill: #D2E3FC;\n",
              "    }\n",
              "\n",
              "    [theme=dark] .colab-df-convert:hover {\n",
              "      background-color: #434B5C;\n",
              "      box-shadow: 0px 1px 3px 1px rgba(0, 0, 0, 0.15);\n",
              "      filter: drop-shadow(0px 1px 2px rgba(0, 0, 0, 0.3));\n",
              "      fill: #FFFFFF;\n",
              "    }\n",
              "  </style>\n",
              "\n",
              "      <script>\n",
              "        const buttonEl =\n",
              "          document.querySelector('#df-b51edd53-adcb-4c35-8b35-eb9d953b4692 button.colab-df-convert');\n",
              "        buttonEl.style.display =\n",
              "          google.colab.kernel.accessAllowed ? 'block' : 'none';\n",
              "\n",
              "        async function convertToInteractive(key) {\n",
              "          const element = document.querySelector('#df-b51edd53-adcb-4c35-8b35-eb9d953b4692');\n",
              "          const dataTable =\n",
              "            await google.colab.kernel.invokeFunction('convertToInteractive',\n",
              "                                                     [key], {});\n",
              "          if (!dataTable) return;\n",
              "\n",
              "          const docLinkHtml = 'Like what you see? Visit the ' +\n",
              "            '<a target=\"_blank\" href=https://colab.research.google.com/notebooks/data_table.ipynb>data table notebook</a>'\n",
              "            + ' to learn more about interactive tables.';\n",
              "          element.innerHTML = '';\n",
              "          dataTable['output_type'] = 'display_data';\n",
              "          await google.colab.output.renderOutput(dataTable, element);\n",
              "          const docLink = document.createElement('div');\n",
              "          docLink.innerHTML = docLinkHtml;\n",
              "          element.appendChild(docLink);\n",
              "        }\n",
              "      </script>\n",
              "    </div>\n",
              "  </div>\n",
              "  "
            ]
          },
          "metadata": {},
          "execution_count": 92
        }
      ]
    },
    {
      "cell_type": "code",
      "source": [
        "df0620.info()"
      ],
      "metadata": {
        "colab": {
          "base_uri": "https://localhost:8080/"
        },
        "id": "w6dUqqfefdoa",
        "outputId": "1d8b637c-6dfe-43ea-aee7-2f715df8d154"
      },
      "execution_count": null,
      "outputs": [
        {
          "output_type": "stream",
          "name": "stdout",
          "text": [
            "<class 'pandas.core.frame.DataFrame'>\n",
            "RangeIndex: 448377 entries, 1 to 448377\n",
            "Data columns (total 40 columns):\n",
            " #   Column             Non-Null Count   Dtype  \n",
            "---  ------             --------------   -----  \n",
            " 0   cdPn               448377 non-null  object \n",
            " 1   cgPn               448377 non-null  object \n",
            " 2   hrId               448377 non-null  object \n",
            " 3   name               448377 non-null  object \n",
            " 4   type               448377 non-null  object \n",
            " 5   ierId              448377 non-null  object \n",
            " 6   level              448377 non-null  object \n",
            " 7   point              448377 non-null  object \n",
            " 8   state              448377 non-null  object \n",
            " 9   action             448377 non-null  object \n",
            " 10  cardId             448377 non-null  object \n",
            " 11  isNear             448377 non-null  object \n",
            " 12  region             448377 non-null  object \n",
            " 13  ierType            448377 non-null  object \n",
            " 14  cityCode           448377 non-null  object \n",
            " 15  isDanger           448377 non-null  object \n",
            " 16  isDanger           448377 non-null  object \n",
            " 17  regionId           448377 non-null  object \n",
            " 18  cityFiasId         448377 non-null  object \n",
            " 19  isBlocking         448377 non-null  object \n",
            " 20  isMalicius         448377 non-null  object \n",
            " 21  lostNumber         448377 non-null  object \n",
            " 22  membership         448377 non-null  object \n",
            " 23  streetCode         448377 non-null  object \n",
            " 24  timeIsoStr         448377 non-null  object \n",
            " 25  isChemFlood        448377 non-null  object \n",
            " 26  dispatchesId       448377 non-null  object \n",
            " 27  districtCode       448377 non-null  object \n",
            " 28  streetFiasId       448377 non-null  object \n",
            " 29  clarification      448377 non-null  object \n",
            " 30  injuredNumber      448377 non-null  object \n",
            " 31  responseStatus     448377 non-null  object \n",
            " 32  actionTimeIsoStr   448377 non-null  object \n",
            " 33  assignTimeIsoStr   448377 non-null  object \n",
            " 34  acceptOperatorFio  448377 non-null  object \n",
            " 35  acceptOperatorStr  448377 non-null  object \n",
            " 36  nan                0 non-null       float64\n",
            " 37  nan                0 non-null       float64\n",
            " 38  nan                0 non-null       float64\n",
            " 39  nan                1 non-null       object \n",
            "dtypes: float64(3), object(37)\n",
            "memory usage: 136.8+ MB\n"
          ]
        }
      ]
    },
    {
      "cell_type": "code",
      "source": [
        "df0620 = df0620.iloc[:, 1:36]"
      ],
      "metadata": {
        "id": "okpeEtj2azS5"
      },
      "execution_count": null,
      "outputs": []
    },
    {
      "cell_type": "code",
      "source": [
        "new_header = df0621.iloc[0].str.strip() #grab the first row for the header\n",
        "df0621 = df0621[1:] #take the data less the header row\n",
        "df0621.columns = new_header #set the header row as the df header"
      ],
      "metadata": {
        "id": "WECIbWXEil6o"
      },
      "execution_count": null,
      "outputs": []
    },
    {
      "cell_type": "code",
      "source": [
        "df0621.info()"
      ],
      "metadata": {
        "colab": {
          "base_uri": "https://localhost:8080/"
        },
        "id": "040T0EACfjsA",
        "outputId": "481faad2-9d1e-4500-a893-849c2dc8cdf4"
      },
      "execution_count": null,
      "outputs": [
        {
          "output_type": "stream",
          "name": "stdout",
          "text": [
            "<class 'pandas.core.frame.DataFrame'>\n",
            "RangeIndex: 502354 entries, 1 to 502354\n",
            "Data columns (total 38 columns):\n",
            " #   Column             Non-Null Count   Dtype  \n",
            "---  ------             --------------   -----  \n",
            " 0   cdPn               502354 non-null  object \n",
            " 1   hrId               502354 non-null  object \n",
            " 2   name               502354 non-null  object \n",
            " 3   type               502354 non-null  object \n",
            " 4   ierId              502354 non-null  object \n",
            " 5   level              502354 non-null  object \n",
            " 6   point              502354 non-null  object \n",
            " 7   state              502354 non-null  object \n",
            " 8   action             502354 non-null  object \n",
            " 9   cardId             502354 non-null  object \n",
            " 10  isNear             502354 non-null  object \n",
            " 11  region             502354 non-null  object \n",
            " 12  ierType            502354 non-null  object \n",
            " 13  cityCode           502354 non-null  object \n",
            " 14  isDanger           502354 non-null  object \n",
            " 15  isDanger           502354 non-null  object \n",
            " 16  regionId           502354 non-null  object \n",
            " 17  cityFiasId         502354 non-null  object \n",
            " 18  isBlocking         502354 non-null  object \n",
            " 19  isMalicius         502354 non-null  object \n",
            " 20  lostNumber         502354 non-null  object \n",
            " 21  membership         502354 non-null  object \n",
            " 22  streetCode         502354 non-null  object \n",
            " 23  timeIsoStr         502354 non-null  object \n",
            " 24  isChemFlood        502354 non-null  object \n",
            " 25  dispatchesId       502354 non-null  object \n",
            " 26  districtCode       502354 non-null  object \n",
            " 27  streetFiasId       502354 non-null  object \n",
            " 28  clarification      502351 non-null  object \n",
            " 29  injuredNumber      502354 non-null  object \n",
            " 30  responseStatus     502353 non-null  object \n",
            " 31  actionTimeIsoStr   502353 non-null  object \n",
            " 32  assignTimeIsoStr   502353 non-null  object \n",
            " 33  acceptOperatorFio  502353 non-null  object \n",
            " 34  acceptOperatorStr  502353 non-null  object \n",
            " 35  nan                0 non-null       float64\n",
            " 36  nan                4 non-null       object \n",
            " 37  nan                2 non-null       object \n",
            "dtypes: float64(1), object(37)\n",
            "memory usage: 145.6+ MB\n"
          ]
        }
      ]
    },
    {
      "cell_type": "code",
      "source": [
        "df0621 = df0621.iloc[:, 1:33]"
      ],
      "metadata": {
        "id": "6drKCLi5bncc"
      },
      "execution_count": null,
      "outputs": []
    },
    {
      "cell_type": "code",
      "source": [
        "new_header = df1220.iloc[0].str.strip() #grab the first row for the header\n",
        "df1220 = df1220[1:] #take the data less the header row\n",
        "df1220.columns = new_header #set the header row as the df header"
      ],
      "metadata": {
        "id": "0Vsx0QuUirKJ"
      },
      "execution_count": null,
      "outputs": []
    },
    {
      "cell_type": "code",
      "source": [
        "df1220.info()"
      ],
      "metadata": {
        "colab": {
          "base_uri": "https://localhost:8080/"
        },
        "id": "vDFIkbxCfnfi",
        "outputId": "1a819b00-22b5-4252-dd0a-8e4c28a0ee91"
      },
      "execution_count": null,
      "outputs": [
        {
          "output_type": "stream",
          "name": "stdout",
          "text": [
            "<class 'pandas.core.frame.DataFrame'>\n",
            "RangeIndex: 426424 entries, 1 to 426424\n",
            "Data columns (total 37 columns):\n",
            " #   Column             Non-Null Count   Dtype  \n",
            "---  ------             --------------   -----  \n",
            " 0   cdPn               426424 non-null  object \n",
            " 1   hrId               426424 non-null  object \n",
            " 2   name               426424 non-null  object \n",
            " 3   type               426424 non-null  object \n",
            " 4   ierId              426424 non-null  object \n",
            " 5   level              426424 non-null  object \n",
            " 6   point              426424 non-null  object \n",
            " 7   state              426424 non-null  object \n",
            " 8   action             426424 non-null  object \n",
            " 9   cardId             426424 non-null  object \n",
            " 10  isNear             426424 non-null  object \n",
            " 11  region             426424 non-null  object \n",
            " 12  ierType            426424 non-null  object \n",
            " 13  cityCode           426424 non-null  object \n",
            " 14  isDanger           426424 non-null  object \n",
            " 15  isDanger           426424 non-null  object \n",
            " 16  regionId           426424 non-null  object \n",
            " 17  cityFiasId         426424 non-null  object \n",
            " 18  isBlocking         426424 non-null  object \n",
            " 19  isMalicius         426424 non-null  object \n",
            " 20  lostNumber         426424 non-null  object \n",
            " 21  membership         426424 non-null  object \n",
            " 22  streetCode         426424 non-null  object \n",
            " 23  timeIsoStr         426424 non-null  object \n",
            " 24  isChemFlood        426424 non-null  object \n",
            " 25  dispatchesId       426424 non-null  object \n",
            " 26  districtCode       426424 non-null  object \n",
            " 27  streetFiasId       426424 non-null  object \n",
            " 28  clarification      426424 non-null  object \n",
            " 29  injuredNumber      426424 non-null  object \n",
            " 30  responseStatus     426424 non-null  object \n",
            " 31  actionTimeIsoStr   426424 non-null  object \n",
            " 32  assignTimeIsoStr   426424 non-null  object \n",
            " 33  acceptOperatorStr  426424 non-null  object \n",
            " 34  nan                0 non-null       float64\n",
            " 35  nan                4 non-null       object \n",
            " 36  nan                4 non-null       object \n",
            "dtypes: float64(1), object(36)\n",
            "memory usage: 120.4+ MB\n"
          ]
        }
      ]
    },
    {
      "cell_type": "code",
      "source": [
        "df1220 = df1220.iloc[:, 1:34]"
      ],
      "metadata": {
        "id": "KQYiyFubb5z9"
      },
      "execution_count": null,
      "outputs": []
    },
    {
      "cell_type": "code",
      "source": [
        "new_header = df1221.iloc[0].str.strip() #grab the first row for the header\n",
        "df1221 = df1221[1:] #take the data less the header row\n",
        "df1221.columns = new_header #set the header row as the df header"
      ],
      "metadata": {
        "id": "rJYgp_S1ivpw"
      },
      "execution_count": null,
      "outputs": []
    },
    {
      "cell_type": "code",
      "source": [
        "df1221.info()"
      ],
      "metadata": {
        "colab": {
          "base_uri": "https://localhost:8080/"
        },
        "id": "a0Qj9Kc6fniZ",
        "outputId": "817577c7-cec9-48c8-acf7-11e0251abe8c"
      },
      "execution_count": null,
      "outputs": [
        {
          "output_type": "stream",
          "name": "stdout",
          "text": [
            "<class 'pandas.core.frame.DataFrame'>\n",
            "RangeIndex: 464865 entries, 1 to 464865\n",
            "Data columns (total 36 columns):\n",
            " #   Column             Non-Null Count   Dtype  \n",
            "---  ------             --------------   -----  \n",
            " 0   cdPn               464865 non-null  object \n",
            " 1   hrId               464865 non-null  object \n",
            " 2   name               464865 non-null  object \n",
            " 3   type               464865 non-null  object \n",
            " 4   ierId              464865 non-null  object \n",
            " 5   level              464865 non-null  object \n",
            " 6   point              464865 non-null  object \n",
            " 7   state              464865 non-null  object \n",
            " 8   action             464865 non-null  object \n",
            " 9   cardId             464865 non-null  object \n",
            " 10  isNear             464865 non-null  object \n",
            " 11  region             464865 non-null  object \n",
            " 12  ierType            464865 non-null  object \n",
            " 13  cityCode           464865 non-null  object \n",
            " 14  isDanger           464865 non-null  object \n",
            " 15  isDanger           464865 non-null  object \n",
            " 16  regionId           464865 non-null  object \n",
            " 17  cityFiasId         464865 non-null  object \n",
            " 18  isBlocking         464865 non-null  object \n",
            " 19  isMalicius         464865 non-null  object \n",
            " 20  lostNumber         464865 non-null  object \n",
            " 21  membership         464865 non-null  object \n",
            " 22  streetCode         464865 non-null  object \n",
            " 23  timeIsoStr         464865 non-null  object \n",
            " 24  isChemFlood        464865 non-null  object \n",
            " 25  dispatchesId       464865 non-null  object \n",
            " 26  districtCode       464865 non-null  object \n",
            " 27  streetFiasId       464865 non-null  object \n",
            " 28  clarification      464865 non-null  object \n",
            " 29  injuredNumber      464864 non-null  object \n",
            " 30  responseStatus     464864 non-null  object \n",
            " 31  actionTimeIsoStr   464864 non-null  object \n",
            " 32  assignTimeIsoStr   464864 non-null  object \n",
            " 33  acceptOperatorStr  464864 non-null  object \n",
            " 34  nan                0 non-null       float64\n",
            " 35  nan                3 non-null       object \n",
            "dtypes: float64(1), object(35)\n",
            "memory usage: 127.7+ MB\n"
          ]
        }
      ]
    },
    {
      "cell_type": "code",
      "source": [
        "df1221 = df1221.iloc[:, 1:34]"
      ],
      "metadata": {
        "id": "XSmL0V4gcC5f"
      },
      "execution_count": null,
      "outputs": []
    },
    {
      "cell_type": "code",
      "source": [
        "df0919.rename(columns=lambda x: x.strip(), inplace=True)"
      ],
      "metadata": {
        "id": "Go87n-Vt-ZiZ"
      },
      "execution_count": null,
      "outputs": []
    },
    {
      "cell_type": "code",
      "source": [
        "df0919.info()"
      ],
      "metadata": {
        "colab": {
          "base_uri": "https://localhost:8080/"
        },
        "id": "OPSGWE8WflBq",
        "outputId": "7c57d7c7-edd1-4ad5-c496-678ff51cba00"
      },
      "execution_count": null,
      "outputs": [
        {
          "output_type": "stream",
          "name": "stdout",
          "text": [
            "<class 'pandas.core.frame.DataFrame'>\n",
            "RangeIndex: 442132 entries, 0 to 442131\n",
            "Data columns (total 38 columns):\n",
            " #   Column             Non-Null Count   Dtype \n",
            "---  ------             --------------   ----- \n",
            " 0   cdPn               442132 non-null  object\n",
            " 1   cgPn               442132 non-null  object\n",
            " 2   hrId               442132 non-null  object\n",
            " 3   name               442132 non-null  object\n",
            " 4   type               442132 non-null  object\n",
            " 5   ierId              442132 non-null  object\n",
            " 6   level              442132 non-null  object\n",
            " 7   point              442132 non-null  object\n",
            " 8   state              442132 non-null  object\n",
            " 9   action             442132 non-null  object\n",
            " 10  cardId             442132 non-null  object\n",
            " 11  isNear             442132 non-null  object\n",
            " 12  region             442132 non-null  object\n",
            " 13  ierType            442132 non-null  object\n",
            " 14  cityCode           442132 non-null  object\n",
            " 15  isDanger           442132 non-null  object\n",
            " 16  isDanger.1         442132 non-null  object\n",
            " 17  regionId           442132 non-null  int64 \n",
            " 18  cityFiasId         442132 non-null  object\n",
            " 19  isBlocking         442132 non-null  object\n",
            " 20  isMalicius         442132 non-null  object\n",
            " 21  lostNumber         442132 non-null  int64 \n",
            " 22  membership         442132 non-null  object\n",
            " 23  streetCode         442132 non-null  object\n",
            " 24  timeIsoStr         442132 non-null  object\n",
            " 25  isChemFlood        442130 non-null  object\n",
            " 26  dispatchesId       442130 non-null  object\n",
            " 27  districtCode       442130 non-null  object\n",
            " 28  streetFiasId       442130 non-null  object\n",
            " 29  clarification      442130 non-null  object\n",
            " 30  injuredNumber      442130 non-null  object\n",
            " 31  responseStatus     442130 non-null  object\n",
            " 32  actionTimeIsoStr   442130 non-null  object\n",
            " 33  assignTimeIsoStr   442130 non-null  object\n",
            " 34  acceptOperatorFio  442130 non-null  object\n",
            " 35  acceptOperatorStr  442130 non-null  object\n",
            " 36  Unnamed: 36        4 non-null       object\n",
            " 37  Unnamed: 37        1 non-null       object\n",
            "dtypes: int64(2), object(36)\n",
            "memory usage: 128.2+ MB\n"
          ]
        }
      ]
    },
    {
      "cell_type": "code",
      "source": [
        "df0919 = df0919.iloc[:, 1:36]"
      ],
      "metadata": {
        "id": "_zIND0xWcK7s"
      },
      "execution_count": null,
      "outputs": []
    },
    {
      "cell_type": "code",
      "source": [
        "df1219.rename(columns=lambda x: x.strip(), inplace=True)"
      ],
      "metadata": {
        "id": "183XXdgD_6jU"
      },
      "execution_count": null,
      "outputs": []
    },
    {
      "cell_type": "code",
      "source": [
        "df1219.info()"
      ],
      "metadata": {
        "colab": {
          "base_uri": "https://localhost:8080/"
        },
        "id": "IqxhfDK0fnlu",
        "outputId": "fbeb7fa9-b020-4857-f9f5-b47beadd58a3"
      },
      "execution_count": null,
      "outputs": [
        {
          "output_type": "stream",
          "name": "stdout",
          "text": [
            "<class 'pandas.core.frame.DataFrame'>\n",
            "RangeIndex: 233715 entries, 0 to 233714\n",
            "Data columns (total 37 columns):\n",
            " #   Column             Non-Null Count   Dtype  \n",
            "---  ------             --------------   -----  \n",
            " 0   cdPn               233715 non-null  object \n",
            " 1   cgPn               233715 non-null  object \n",
            " 2   hrId               233715 non-null  object \n",
            " 3   name               233715 non-null  object \n",
            " 4   type               233715 non-null  object \n",
            " 5   ierId              233715 non-null  object \n",
            " 6   level              233715 non-null  object \n",
            " 7   point              233715 non-null  object \n",
            " 8   state              233715 non-null  object \n",
            " 9   action             233715 non-null  object \n",
            " 10  cardId             233715 non-null  object \n",
            " 11  isNear             233715 non-null  object \n",
            " 12  region             233715 non-null  object \n",
            " 13  ierType            233715 non-null  object \n",
            " 14  cityCode           233715 non-null  object \n",
            " 15  isDanger           233715 non-null  object \n",
            " 16  isDanger.1         233715 non-null  object \n",
            " 17  regionId           233715 non-null  int64  \n",
            " 18  cityFiasId         233715 non-null  object \n",
            " 19  isBlocking         233715 non-null  object \n",
            " 20  isMalicius         233715 non-null  object \n",
            " 21  lostNumber         233715 non-null  int64  \n",
            " 22  membership         233715 non-null  object \n",
            " 23  streetCode         233715 non-null  object \n",
            " 24  timeIsoStr         233715 non-null  object \n",
            " 25  isChemFlood        233713 non-null  object \n",
            " 26  dispatchesId       233713 non-null  object \n",
            " 27  districtCode       233713 non-null  object \n",
            " 28  streetFiasId       233713 non-null  object \n",
            " 29  clarification      233713 non-null  object \n",
            " 30  injuredNumber      233713 non-null  object \n",
            " 31  responseStatus     233713 non-null  float64\n",
            " 32  actionTimeIsoStr   233713 non-null  object \n",
            " 33  assignTimeIsoStr   233713 non-null  object \n",
            " 34  acceptOperatorFio  233713 non-null  object \n",
            " 35  acceptOperatorStr  233713 non-null  object \n",
            " 36  Unnamed: 36        4 non-null       object \n",
            "dtypes: float64(1), int64(2), object(34)\n",
            "memory usage: 66.0+ MB\n"
          ]
        }
      ]
    },
    {
      "cell_type": "code",
      "source": [
        "df1219 = df1219.iloc[:, 1:36]"
      ],
      "metadata": {
        "id": "3Q3VFjN9cRAe"
      },
      "execution_count": null,
      "outputs": []
    },
    {
      "cell_type": "code",
      "source": [
        "pd.set_option('display.max_columns', None)"
      ],
      "metadata": {
        "id": "7gw_K7kuglVt"
      },
      "execution_count": null,
      "outputs": []
    },
    {
      "cell_type": "code",
      "source": [
        "df0919.shape"
      ],
      "metadata": {
        "colab": {
          "base_uri": "https://localhost:8080/"
        },
        "id": "NX4JIwFi3xV-",
        "outputId": "959622e5-ecb1-46bd-d43c-9d3ed2a5f4bf"
      },
      "execution_count": null,
      "outputs": [
        {
          "output_type": "execute_result",
          "data": {
            "text/plain": [
              "(442132, 35)"
            ]
          },
          "metadata": {},
          "execution_count": 111
        }
      ]
    },
    {
      "cell_type": "code",
      "source": [
        "df0620.shape"
      ],
      "metadata": {
        "colab": {
          "base_uri": "https://localhost:8080/"
        },
        "id": "KnoqAVFv38yQ",
        "outputId": "918f2439-b273-4774-d75f-318fe1897a0b"
      },
      "execution_count": null,
      "outputs": [
        {
          "output_type": "execute_result",
          "data": {
            "text/plain": [
              "(448377, 35)"
            ]
          },
          "metadata": {},
          "execution_count": 112
        }
      ]
    },
    {
      "cell_type": "code",
      "source": [
        "df0621.shape"
      ],
      "metadata": {
        "colab": {
          "base_uri": "https://localhost:8080/"
        },
        "id": "AU60o11I4ALV",
        "outputId": "2c949254-015b-4d4d-b43f-7f2ed6eb6824"
      },
      "execution_count": null,
      "outputs": [
        {
          "output_type": "execute_result",
          "data": {
            "text/plain": [
              "(502354, 32)"
            ]
          },
          "metadata": {},
          "execution_count": 113
        }
      ]
    },
    {
      "cell_type": "code",
      "source": [
        "df1221.head()"
      ],
      "metadata": {
        "colab": {
          "base_uri": "https://localhost:8080/"
        },
        "id": "Vxjbmm-j6hI4",
        "outputId": "c88bd5e9-e299-4c38-ab5e-cc42d5f125a7"
      },
      "execution_count": null,
      "outputs": [
        {
          "output_type": "execute_result",
          "data": {
            "text/plain": [
              "0                  hrId                                               name  \\\n",
              "1  авг11_СлучНабор_213   Случайный набор номера                        ...   \n",
              "2  авг15_СлучНабор_122   Случайный набор номера                        ...   \n",
              "3  авг09_Молчание_150    Вызов с молчанием                             ...   \n",
              "4  авг09_СлучНабор_144   Случайный набор номера                        ...   \n",
              "5  авг11_Справка_058     Получение справок                             ...   \n",
              "\n",
              "0                                               type  \\\n",
              "1  Случайный набор номера                        ...   \n",
              "2  Случайный набор номера                        ...   \n",
              "3  Вызов с молчанием                             ...   \n",
              "4  Случайный набор номера                        ...   \n",
              "5  Получение справок                             ...   \n",
              "\n",
              "0                                 ierId    level  \\\n",
              "1  d0cacbea-1791-4d46-9b4f-ad81009eb164  Обычный   \n",
              "2  c3b8c2c3-6419-4b88-bfbb-ad85009a733f  Обычный   \n",
              "3  f3be67f9-83e9-4888-910a-ad7f009ae335  Обычный   \n",
              "4  9aea7223-f50b-4deb-a3ee-ad7f009b7079  Обычный   \n",
              "5  01966e91-e4b0-4b74-9131-ad81009e4252  Обычный   \n",
              "\n",
              "0                                              point  \\\n",
              "1  [{\"lat\": 48.8031, \"lon\": 44.7532}]            ...   \n",
              "2  [{\"lat\": 48.7414, \"lon\": 44.5453}]            ...   \n",
              "3  [{\"lat\": 48.8061, \"lon\": 44.7559}]            ...   \n",
              "4  [{\"lat\": 50.1369, \"lon\": 45.2067}]            ...   \n",
              "5  [{\"lat\": 48.7778, \"lon\": 44.7605}]            ...   \n",
              "\n",
              "0                       state  \\\n",
              "1  Карточка закрыта             \n",
              "2  Карточка закрыта             \n",
              "3  Карточка закрыта             \n",
              "4  Карточка закрыта             \n",
              "5  Карточка закрыта             \n",
              "\n",
              "0                                             action  \\\n",
              "1  [NULL]                                        ...   \n",
              "2  [NULL]                                        ...   \n",
              "3  [NULL]                                        ...   \n",
              "4  [NULL]                                        ...   \n",
              "5  [NULL]                                        ...   \n",
              "\n",
              "0                                cardId  isNear                       region  \\\n",
              "1  0c9bcba0-de53-4942-83f2-ad81009ee057  false   Волгоград Ворошиловский       \n",
              "2  963f0751-961a-4761-b205-ad85009a7f89  false   Волгоград Ворошиловский       \n",
              "3  d404c079-19a0-4a9c-8ca2-ad7f009af53e  false   Волгоград Ворошиловский       \n",
              "4  eec7d091-7b78-42c8-a732-ad7f009ba1f7  false   Волгоград Ворошиловский       \n",
              "5  fa17ad19-ba1d-401d-92cf-ad81009e9d03  false   Волгоград Ворошиловский       \n",
              "\n",
              "0            ierType     cityCode  \\\n",
              "1  Телефонный звонок  [NULL]        \n",
              "2  Телефонный звонок  [NULL]        \n",
              "3  Телефонный звонок  [NULL]        \n",
              "4  Телефонный звонок  [NULL]        \n",
              "5  Телефонный звонок  [NULL]        \n",
              "\n",
              "0                                           isDanger  isDanger regionId  \\\n",
              "1  [NULL]                                        ...  false          10   \n",
              "2  [NULL]                                        ...  false          10   \n",
              "3  [NULL]                                        ...  false          10   \n",
              "4  [NULL]                                        ...  false          10   \n",
              "5  [NULL]                                        ...  false          10   \n",
              "\n",
              "0                            cityFiasId  isBlocking  isMalicius lostNumber  \\\n",
              "1  [NULL]                                false       [NULL]              0   \n",
              "2  [NULL]                                false       [NULL]              0   \n",
              "3  [NULL]                                false       [NULL]              0   \n",
              "4  [NULL]                                false       [NULL]              0   \n",
              "5  [NULL]                                false       [NULL]              0   \n",
              "\n",
              "0                                         membership       streetCode  \\\n",
              "1                                                ...  [NULL]            \n",
              "2                                                ...  [NULL]            \n",
              "3                                                ...  [NULL]            \n",
              "4                                                ...  [NULL]            \n",
              "5                                                ...  [NULL]            \n",
              "\n",
              "0               timeIsoStr  isChemFlood  \\\n",
              "1  2021-08-11T09:38:27.000  false         \n",
              "2  2021-08-15T09:22:30.000  false         \n",
              "3  2021-08-09T09:24:11.000  false         \n",
              "4  2021-08-09T09:26:38.000  false         \n",
              "5  2021-08-11T09:37:29.000  false         \n",
              "\n",
              "0                                       dispatchesId  districtCode  \\\n",
              "1  [NULL]                                        ...  [NULL]         \n",
              "2  [NULL]                                        ...  [NULL]         \n",
              "3  [NULL]                                        ...  [NULL]         \n",
              "4  [NULL]                                        ...  [NULL]         \n",
              "5  [NULL]                                        ...  [NULL]         \n",
              "\n",
              "0                          streetFiasId                      clarification  \\\n",
              "1  [NULL]                                [NULL]                              \n",
              "2  [NULL]                                [NULL]                              \n",
              "3  [NULL]                                [NULL]                              \n",
              "4  [NULL]                                [NULL]                              \n",
              "5  [NULL]                                [NULL]                              \n",
              "\n",
              "0 injuredNumber responseStatus  \\\n",
              "1             0            200   \n",
              "2             0            200   \n",
              "3             0            200   \n",
              "4             0            200   \n",
              "5             0            200   \n",
              "\n",
              "0                                   actionTimeIsoStr         assignTimeIsoStr  \\\n",
              "1  [NULL]                                        ...  [NULL]                    \n",
              "2  [NULL]                                        ...  [NULL]                    \n",
              "3  [NULL]                                        ...  [NULL]                    \n",
              "4  [NULL]                                        ...  [NULL]                    \n",
              "5  [NULL]                                        ...  [NULL]                    \n",
              "\n",
              "0  acceptOperatorStr  \n",
              "1  Operator65         \n",
              "2  Operator44         \n",
              "3  Operator105        \n",
              "4  Operator71         \n",
              "5  Operator71         "
            ],
            "text/html": [
              "\n",
              "  <div id=\"df-161c4a66-751e-4534-9299-4ff233b4a678\">\n",
              "    <div class=\"colab-df-container\">\n",
              "      <div>\n",
              "<style scoped>\n",
              "    .dataframe tbody tr th:only-of-type {\n",
              "        vertical-align: middle;\n",
              "    }\n",
              "\n",
              "    .dataframe tbody tr th {\n",
              "        vertical-align: top;\n",
              "    }\n",
              "\n",
              "    .dataframe thead th {\n",
              "        text-align: right;\n",
              "    }\n",
              "</style>\n",
              "<table border=\"1\" class=\"dataframe\">\n",
              "  <thead>\n",
              "    <tr style=\"text-align: right;\">\n",
              "      <th></th>\n",
              "      <th>hrId</th>\n",
              "      <th>name</th>\n",
              "      <th>type</th>\n",
              "      <th>ierId</th>\n",
              "      <th>level</th>\n",
              "      <th>point</th>\n",
              "      <th>state</th>\n",
              "      <th>action</th>\n",
              "      <th>cardId</th>\n",
              "      <th>isNear</th>\n",
              "      <th>region</th>\n",
              "      <th>ierType</th>\n",
              "      <th>cityCode</th>\n",
              "      <th>isDanger</th>\n",
              "      <th>isDanger</th>\n",
              "      <th>regionId</th>\n",
              "      <th>cityFiasId</th>\n",
              "      <th>isBlocking</th>\n",
              "      <th>isMalicius</th>\n",
              "      <th>lostNumber</th>\n",
              "      <th>membership</th>\n",
              "      <th>streetCode</th>\n",
              "      <th>timeIsoStr</th>\n",
              "      <th>isChemFlood</th>\n",
              "      <th>dispatchesId</th>\n",
              "      <th>districtCode</th>\n",
              "      <th>streetFiasId</th>\n",
              "      <th>clarification</th>\n",
              "      <th>injuredNumber</th>\n",
              "      <th>responseStatus</th>\n",
              "      <th>actionTimeIsoStr</th>\n",
              "      <th>assignTimeIsoStr</th>\n",
              "      <th>acceptOperatorStr</th>\n",
              "    </tr>\n",
              "  </thead>\n",
              "  <tbody>\n",
              "    <tr>\n",
              "      <th>1</th>\n",
              "      <td>авг11_СлучНабор_213</td>\n",
              "      <td>Случайный набор номера                        ...</td>\n",
              "      <td>Случайный набор номера                        ...</td>\n",
              "      <td>d0cacbea-1791-4d46-9b4f-ad81009eb164</td>\n",
              "      <td>Обычный</td>\n",
              "      <td>[{\"lat\": 48.8031, \"lon\": 44.7532}]            ...</td>\n",
              "      <td>Карточка закрыта</td>\n",
              "      <td>[NULL]                                        ...</td>\n",
              "      <td>0c9bcba0-de53-4942-83f2-ad81009ee057</td>\n",
              "      <td>false</td>\n",
              "      <td>Волгоград Ворошиловский</td>\n",
              "      <td>Телефонный звонок</td>\n",
              "      <td>[NULL]</td>\n",
              "      <td>[NULL]                                        ...</td>\n",
              "      <td>false</td>\n",
              "      <td>10</td>\n",
              "      <td>[NULL]</td>\n",
              "      <td>false</td>\n",
              "      <td>[NULL]</td>\n",
              "      <td>0</td>\n",
              "      <td>...</td>\n",
              "      <td>[NULL]</td>\n",
              "      <td>2021-08-11T09:38:27.000</td>\n",
              "      <td>false</td>\n",
              "      <td>[NULL]                                        ...</td>\n",
              "      <td>[NULL]</td>\n",
              "      <td>[NULL]</td>\n",
              "      <td>[NULL]</td>\n",
              "      <td>0</td>\n",
              "      <td>200</td>\n",
              "      <td>[NULL]                                        ...</td>\n",
              "      <td>[NULL]</td>\n",
              "      <td>Operator65</td>\n",
              "    </tr>\n",
              "    <tr>\n",
              "      <th>2</th>\n",
              "      <td>авг15_СлучНабор_122</td>\n",
              "      <td>Случайный набор номера                        ...</td>\n",
              "      <td>Случайный набор номера                        ...</td>\n",
              "      <td>c3b8c2c3-6419-4b88-bfbb-ad85009a733f</td>\n",
              "      <td>Обычный</td>\n",
              "      <td>[{\"lat\": 48.7414, \"lon\": 44.5453}]            ...</td>\n",
              "      <td>Карточка закрыта</td>\n",
              "      <td>[NULL]                                        ...</td>\n",
              "      <td>963f0751-961a-4761-b205-ad85009a7f89</td>\n",
              "      <td>false</td>\n",
              "      <td>Волгоград Ворошиловский</td>\n",
              "      <td>Телефонный звонок</td>\n",
              "      <td>[NULL]</td>\n",
              "      <td>[NULL]                                        ...</td>\n",
              "      <td>false</td>\n",
              "      <td>10</td>\n",
              "      <td>[NULL]</td>\n",
              "      <td>false</td>\n",
              "      <td>[NULL]</td>\n",
              "      <td>0</td>\n",
              "      <td>...</td>\n",
              "      <td>[NULL]</td>\n",
              "      <td>2021-08-15T09:22:30.000</td>\n",
              "      <td>false</td>\n",
              "      <td>[NULL]                                        ...</td>\n",
              "      <td>[NULL]</td>\n",
              "      <td>[NULL]</td>\n",
              "      <td>[NULL]</td>\n",
              "      <td>0</td>\n",
              "      <td>200</td>\n",
              "      <td>[NULL]                                        ...</td>\n",
              "      <td>[NULL]</td>\n",
              "      <td>Operator44</td>\n",
              "    </tr>\n",
              "    <tr>\n",
              "      <th>3</th>\n",
              "      <td>авг09_Молчание_150</td>\n",
              "      <td>Вызов с молчанием                             ...</td>\n",
              "      <td>Вызов с молчанием                             ...</td>\n",
              "      <td>f3be67f9-83e9-4888-910a-ad7f009ae335</td>\n",
              "      <td>Обычный</td>\n",
              "      <td>[{\"lat\": 48.8061, \"lon\": 44.7559}]            ...</td>\n",
              "      <td>Карточка закрыта</td>\n",
              "      <td>[NULL]                                        ...</td>\n",
              "      <td>d404c079-19a0-4a9c-8ca2-ad7f009af53e</td>\n",
              "      <td>false</td>\n",
              "      <td>Волгоград Ворошиловский</td>\n",
              "      <td>Телефонный звонок</td>\n",
              "      <td>[NULL]</td>\n",
              "      <td>[NULL]                                        ...</td>\n",
              "      <td>false</td>\n",
              "      <td>10</td>\n",
              "      <td>[NULL]</td>\n",
              "      <td>false</td>\n",
              "      <td>[NULL]</td>\n",
              "      <td>0</td>\n",
              "      <td>...</td>\n",
              "      <td>[NULL]</td>\n",
              "      <td>2021-08-09T09:24:11.000</td>\n",
              "      <td>false</td>\n",
              "      <td>[NULL]                                        ...</td>\n",
              "      <td>[NULL]</td>\n",
              "      <td>[NULL]</td>\n",
              "      <td>[NULL]</td>\n",
              "      <td>0</td>\n",
              "      <td>200</td>\n",
              "      <td>[NULL]                                        ...</td>\n",
              "      <td>[NULL]</td>\n",
              "      <td>Operator105</td>\n",
              "    </tr>\n",
              "    <tr>\n",
              "      <th>4</th>\n",
              "      <td>авг09_СлучНабор_144</td>\n",
              "      <td>Случайный набор номера                        ...</td>\n",
              "      <td>Случайный набор номера                        ...</td>\n",
              "      <td>9aea7223-f50b-4deb-a3ee-ad7f009b7079</td>\n",
              "      <td>Обычный</td>\n",
              "      <td>[{\"lat\": 50.1369, \"lon\": 45.2067}]            ...</td>\n",
              "      <td>Карточка закрыта</td>\n",
              "      <td>[NULL]                                        ...</td>\n",
              "      <td>eec7d091-7b78-42c8-a732-ad7f009ba1f7</td>\n",
              "      <td>false</td>\n",
              "      <td>Волгоград Ворошиловский</td>\n",
              "      <td>Телефонный звонок</td>\n",
              "      <td>[NULL]</td>\n",
              "      <td>[NULL]                                        ...</td>\n",
              "      <td>false</td>\n",
              "      <td>10</td>\n",
              "      <td>[NULL]</td>\n",
              "      <td>false</td>\n",
              "      <td>[NULL]</td>\n",
              "      <td>0</td>\n",
              "      <td>...</td>\n",
              "      <td>[NULL]</td>\n",
              "      <td>2021-08-09T09:26:38.000</td>\n",
              "      <td>false</td>\n",
              "      <td>[NULL]                                        ...</td>\n",
              "      <td>[NULL]</td>\n",
              "      <td>[NULL]</td>\n",
              "      <td>[NULL]</td>\n",
              "      <td>0</td>\n",
              "      <td>200</td>\n",
              "      <td>[NULL]                                        ...</td>\n",
              "      <td>[NULL]</td>\n",
              "      <td>Operator71</td>\n",
              "    </tr>\n",
              "    <tr>\n",
              "      <th>5</th>\n",
              "      <td>авг11_Справка_058</td>\n",
              "      <td>Получение справок                             ...</td>\n",
              "      <td>Получение справок                             ...</td>\n",
              "      <td>01966e91-e4b0-4b74-9131-ad81009e4252</td>\n",
              "      <td>Обычный</td>\n",
              "      <td>[{\"lat\": 48.7778, \"lon\": 44.7605}]            ...</td>\n",
              "      <td>Карточка закрыта</td>\n",
              "      <td>[NULL]                                        ...</td>\n",
              "      <td>fa17ad19-ba1d-401d-92cf-ad81009e9d03</td>\n",
              "      <td>false</td>\n",
              "      <td>Волгоград Ворошиловский</td>\n",
              "      <td>Телефонный звонок</td>\n",
              "      <td>[NULL]</td>\n",
              "      <td>[NULL]                                        ...</td>\n",
              "      <td>false</td>\n",
              "      <td>10</td>\n",
              "      <td>[NULL]</td>\n",
              "      <td>false</td>\n",
              "      <td>[NULL]</td>\n",
              "      <td>0</td>\n",
              "      <td>...</td>\n",
              "      <td>[NULL]</td>\n",
              "      <td>2021-08-11T09:37:29.000</td>\n",
              "      <td>false</td>\n",
              "      <td>[NULL]                                        ...</td>\n",
              "      <td>[NULL]</td>\n",
              "      <td>[NULL]</td>\n",
              "      <td>[NULL]</td>\n",
              "      <td>0</td>\n",
              "      <td>200</td>\n",
              "      <td>[NULL]                                        ...</td>\n",
              "      <td>[NULL]</td>\n",
              "      <td>Operator71</td>\n",
              "    </tr>\n",
              "  </tbody>\n",
              "</table>\n",
              "</div>\n",
              "      <button class=\"colab-df-convert\" onclick=\"convertToInteractive('df-161c4a66-751e-4534-9299-4ff233b4a678')\"\n",
              "              title=\"Convert this dataframe to an interactive table.\"\n",
              "              style=\"display:none;\">\n",
              "        \n",
              "  <svg xmlns=\"http://www.w3.org/2000/svg\" height=\"24px\"viewBox=\"0 0 24 24\"\n",
              "       width=\"24px\">\n",
              "    <path d=\"M0 0h24v24H0V0z\" fill=\"none\"/>\n",
              "    <path d=\"M18.56 5.44l.94 2.06.94-2.06 2.06-.94-2.06-.94-.94-2.06-.94 2.06-2.06.94zm-11 1L8.5 8.5l.94-2.06 2.06-.94-2.06-.94L8.5 2.5l-.94 2.06-2.06.94zm10 10l.94 2.06.94-2.06 2.06-.94-2.06-.94-.94-2.06-.94 2.06-2.06.94z\"/><path d=\"M17.41 7.96l-1.37-1.37c-.4-.4-.92-.59-1.43-.59-.52 0-1.04.2-1.43.59L10.3 9.45l-7.72 7.72c-.78.78-.78 2.05 0 2.83L4 21.41c.39.39.9.59 1.41.59.51 0 1.02-.2 1.41-.59l7.78-7.78 2.81-2.81c.8-.78.8-2.07 0-2.86zM5.41 20L4 18.59l7.72-7.72 1.47 1.35L5.41 20z\"/>\n",
              "  </svg>\n",
              "      </button>\n",
              "      \n",
              "  <style>\n",
              "    .colab-df-container {\n",
              "      display:flex;\n",
              "      flex-wrap:wrap;\n",
              "      gap: 12px;\n",
              "    }\n",
              "\n",
              "    .colab-df-convert {\n",
              "      background-color: #E8F0FE;\n",
              "      border: none;\n",
              "      border-radius: 50%;\n",
              "      cursor: pointer;\n",
              "      display: none;\n",
              "      fill: #1967D2;\n",
              "      height: 32px;\n",
              "      padding: 0 0 0 0;\n",
              "      width: 32px;\n",
              "    }\n",
              "\n",
              "    .colab-df-convert:hover {\n",
              "      background-color: #E2EBFA;\n",
              "      box-shadow: 0px 1px 2px rgba(60, 64, 67, 0.3), 0px 1px 3px 1px rgba(60, 64, 67, 0.15);\n",
              "      fill: #174EA6;\n",
              "    }\n",
              "\n",
              "    [theme=dark] .colab-df-convert {\n",
              "      background-color: #3B4455;\n",
              "      fill: #D2E3FC;\n",
              "    }\n",
              "\n",
              "    [theme=dark] .colab-df-convert:hover {\n",
              "      background-color: #434B5C;\n",
              "      box-shadow: 0px 1px 3px 1px rgba(0, 0, 0, 0.15);\n",
              "      filter: drop-shadow(0px 1px 2px rgba(0, 0, 0, 0.3));\n",
              "      fill: #FFFFFF;\n",
              "    }\n",
              "  </style>\n",
              "\n",
              "      <script>\n",
              "        const buttonEl =\n",
              "          document.querySelector('#df-161c4a66-751e-4534-9299-4ff233b4a678 button.colab-df-convert');\n",
              "        buttonEl.style.display =\n",
              "          google.colab.kernel.accessAllowed ? 'block' : 'none';\n",
              "\n",
              "        async function convertToInteractive(key) {\n",
              "          const element = document.querySelector('#df-161c4a66-751e-4534-9299-4ff233b4a678');\n",
              "          const dataTable =\n",
              "            await google.colab.kernel.invokeFunction('convertToInteractive',\n",
              "                                                     [key], {});\n",
              "          if (!dataTable) return;\n",
              "\n",
              "          const docLinkHtml = 'Like what you see? Visit the ' +\n",
              "            '<a target=\"_blank\" href=https://colab.research.google.com/notebooks/data_table.ipynb>data table notebook</a>'\n",
              "            + ' to learn more about interactive tables.';\n",
              "          element.innerHTML = '';\n",
              "          dataTable['output_type'] = 'display_data';\n",
              "          await google.colab.output.renderOutput(dataTable, element);\n",
              "          const docLink = document.createElement('div');\n",
              "          docLink.innerHTML = docLinkHtml;\n",
              "          element.appendChild(docLink);\n",
              "        }\n",
              "      </script>\n",
              "    </div>\n",
              "  </div>\n",
              "  "
            ]
          },
          "metadata": {},
          "execution_count": 114
        }
      ]
    },
    {
      "cell_type": "code",
      "source": [
        "df0620.responseStatus.value_counts()"
      ],
      "metadata": {
        "colab": {
          "base_uri": "https://localhost:8080/"
        },
        "id": "Xb27DvAR6rjg",
        "outputId": "11e17217-807d-4bdf-b9f7-078f2695c186"
      },
      "execution_count": null,
      "outputs": [
        {
          "output_type": "execute_result",
          "data": {
            "text/plain": [
              "200    448376\n",
              "0           1\n",
              "Name: responseStatus, dtype: int64"
            ]
          },
          "metadata": {},
          "execution_count": 115
        }
      ]
    },
    {
      "cell_type": "code",
      "source": [
        "print(list(df0919))"
      ],
      "metadata": {
        "colab": {
          "base_uri": "https://localhost:8080/"
        },
        "id": "wyBhLq_R4735",
        "outputId": "842b583f-3788-4d57-d71d-fb76cc4fd085"
      },
      "execution_count": null,
      "outputs": [
        {
          "output_type": "stream",
          "name": "stdout",
          "text": [
            "['cgPn', 'hrId', 'name', 'type', 'ierId', 'level', 'point', 'state', 'action', 'cardId', 'isNear', 'region', 'ierType', 'cityCode', 'isDanger', 'isDanger.1', 'regionId', 'cityFiasId', 'isBlocking', 'isMalicius', 'lostNumber', 'membership', 'streetCode', 'timeIsoStr', 'isChemFlood', 'dispatchesId', 'districtCode', 'streetFiasId', 'clarification', 'injuredNumber', 'responseStatus', 'actionTimeIsoStr', 'assignTimeIsoStr', 'acceptOperatorFio', 'acceptOperatorStr']\n"
          ]
        }
      ]
    },
    {
      "cell_type": "code",
      "source": [
        "# df_new = df1221.replace('\\[NULL\\]', ' ', regex=True)"
      ],
      "metadata": {
        "id": "YuTEmINAXZCC"
      },
      "execution_count": null,
      "outputs": []
    },
    {
      "cell_type": "code",
      "source": [
        "# df_new.info()"
      ],
      "metadata": {
        "id": "bS-Dxj9QYLB_"
      },
      "execution_count": null,
      "outputs": []
    },
    {
      "cell_type": "code",
      "source": [
        "# df_new.head()"
      ],
      "metadata": {
        "id": "QrvbwU_WX3xu"
      },
      "execution_count": null,
      "outputs": []
    },
    {
      "cell_type": "code",
      "source": [
        "# df1221.action.value_counts()"
      ],
      "metadata": {
        "id": "pTg-DnnCYzVs"
      },
      "execution_count": null,
      "outputs": []
    },
    {
      "cell_type": "markdown",
      "source": [
        "# удаление столбцов"
      ],
      "metadata": {
        "id": "-2qQOvsEJNcL"
      }
    },
    {
      "cell_type": "code",
      "source": [
        "# df0620 = df0620[['hrId', 'name', 'type', 'level', 'point', 'state', 'cardId', 'region', 'regionId', 'timeIsoStr']] \n",
        "# df0919 = df0919[['hrId', 'name', 'type', 'level', 'point', 'state', 'cardId', 'region', 'regionId', 'timeIsoStr']] \n",
        "# df1220 = df1220[['hrId', 'name', 'type', 'level', 'point', 'state', 'cardId', 'region', 'regionId', 'timeIsoStr']] \n",
        "# df0621 = df0621[['hrId', 'name', 'type', 'level', 'point', 'state', 'cardId', 'region', 'regionId', 'timeIsoStr']] \n",
        "# df1221 = df1221[['hrId', 'name', 'type', 'level', 'point', 'state', 'cardId', 'region', 'regionId', 'timeIsoStr']] \n",
        "# df1219 = df1219[['hrId', 'name', 'type', 'level', 'point', 'state', 'cardId', 'region', 'regionId', 'timeIsoStr']] "
      ],
      "metadata": {
        "id": "t8dXdq_G6dHH"
      },
      "execution_count": null,
      "outputs": []
    },
    {
      "cell_type": "code",
      "source": [
        "df1221 = df1221.drop(['name', 'isDanger','level', 'isNear', 'isBlocking', 'isMalicius', 'lostNumber', 'injuredNumber', 'responseStatus', 'actionTimeIsoStr'], axis=1)\n",
        "df0621 = df0621.drop(['name', 'isDanger','level', 'isNear', 'isBlocking', 'isMalicius', 'lostNumber', 'injuredNumber', 'responseStatus', 'actionTimeIsoStr'], axis=1)\n",
        "df1220 = df1220.drop(['name','isDanger','level', 'isNear', 'isBlocking', 'isMalicius', 'lostNumber', 'injuredNumber', 'responseStatus', 'actionTimeIsoStr'], axis=1)\n",
        "df0620 = df0620.drop(['name', 'isDanger','level', 'isNear', 'isBlocking', 'isMalicius', 'lostNumber', 'injuredNumber', 'responseStatus', 'actionTimeIsoStr'], axis=1)\n",
        "df1219 = df1219.drop(['name','isDanger.1', 'isDanger','level', 'isNear', 'isBlocking', 'isMalicius', 'lostNumber', 'injuredNumber', 'responseStatus', 'actionTimeIsoStr'], axis=1)\n",
        "df0919 = df0919.drop(['name','isDanger.1', 'isDanger','level', 'isNear', 'isBlocking', 'isMalicius', 'lostNumber', 'injuredNumber', 'responseStatus', 'actionTimeIsoStr'], axis=1)"
      ],
      "metadata": {
        "id": "6WO8-nANOYmK"
      },
      "execution_count": null,
      "outputs": []
    },
    {
      "cell_type": "code",
      "source": [
        "df1221.shape , df0621.shape , df1220.shape , df0620.shape , df1219.shape , df0919.shape"
      ],
      "metadata": {
        "colab": {
          "base_uri": "https://localhost:8080/"
        },
        "id": "Q7tzcm_FPFtl",
        "outputId": "1986f5cb-eb48-4d29-e014-832aa462088c"
      },
      "execution_count": null,
      "outputs": [
        {
          "output_type": "execute_result",
          "data": {
            "text/plain": [
              "((464865, 22),\n",
              " (502354, 21),\n",
              " (426424, 22),\n",
              " (448377, 24),\n",
              " (233715, 24),\n",
              " (442132, 24))"
            ]
          },
          "metadata": {},
          "execution_count": 123
        }
      ]
    },
    {
      "cell_type": "code",
      "source": [
        "df1220 = df1220.drop(['acceptOperatorStr'], axis=1)\n",
        "df1221 = df1221.drop(['acceptOperatorStr'], axis=1)\n",
        "df0620 = df0620.drop(['cgPn','acceptOperatorStr', 'acceptOperatorFio'], axis=1)\n",
        "df1219 = df1219.drop(['cgPn','acceptOperatorStr', 'acceptOperatorFio'], axis=1)\n",
        "df0919 = df0919.drop(['cgPn','acceptOperatorStr', 'acceptOperatorFio'], axis=1)"
      ],
      "metadata": {
        "id": "AqO1RZxgRnpZ"
      },
      "execution_count": null,
      "outputs": []
    },
    {
      "cell_type": "markdown",
      "source": [
        "# индекс"
      ],
      "metadata": {
        "id": "43dpBOx3d_pi"
      }
    },
    {
      "cell_type": "code",
      "source": [
        "# df = df.set_index(['rollno','name'])"
      ],
      "metadata": {
        "id": "q8ahsaqweBQI"
      },
      "execution_count": null,
      "outputs": []
    },
    {
      "cell_type": "markdown",
      "source": [
        "# Обьединение"
      ],
      "metadata": {
        "id": "mM0_xxCyVMpM"
      }
    },
    {
      "cell_type": "code",
      "source": [
        "# df0621 = df0621.reset_index(drop=True)\n",
        "# df1221 = df1221.reset_index(drop=True)"
      ],
      "metadata": {
        "id": "lwCpMF_H0FWd"
      },
      "execution_count": null,
      "outputs": []
    },
    {
      "cell_type": "code",
      "source": [
        "# df0621.reset_index(drop=True)"
      ],
      "metadata": {
        "id": "cYK8qtY9Bnqv"
      },
      "execution_count": null,
      "outputs": []
    },
    {
      "cell_type": "code",
      "source": [
        "# df0621.head(3)"
      ],
      "metadata": {
        "id": "E9E-_eCsAN40"
      },
      "execution_count": null,
      "outputs": []
    },
    {
      "cell_type": "code",
      "source": [
        "# df1221.append(df0621, sort=False)"
      ],
      "metadata": {
        "id": "B_YzP6aMAzVV"
      },
      "execution_count": null,
      "outputs": []
    },
    {
      "cell_type": "code",
      "source": [
        "df = pd.concat([df1221, df0621], ignore_index=True)\n",
        "df = pd.concat([df, df1220], ignore_index=True)\n",
        "df = pd.concat([df, df0620], ignore_index=True)\n",
        "df = pd.concat([df, df1219], ignore_index=True)\n",
        "df = pd.concat([df, df0919], ignore_index=True)\n",
        "df.shape"
      ],
      "metadata": {
        "id": "krRtipQD0Fyg",
        "colab": {
          "base_uri": "https://localhost:8080/"
        },
        "outputId": "e99f2663-7649-4529-ceec-669d615ba503"
      },
      "execution_count": null,
      "outputs": [
        {
          "output_type": "execute_result",
          "data": {
            "text/plain": [
              "(2517867, 21)"
            ]
          },
          "metadata": {},
          "execution_count": 129
        }
      ]
    },
    {
      "cell_type": "code",
      "source": [
        "df.head(3)"
      ],
      "metadata": {
        "colab": {
          "base_uri": "https://localhost:8080/"
        },
        "id": "lpbshhIYdSH2",
        "outputId": "3442ecfb-c059-4480-dd4c-97113dd4790a"
      },
      "execution_count": null,
      "outputs": [
        {
          "output_type": "execute_result",
          "data": {
            "text/plain": [
              "                   hrId                                               type  \\\n",
              "0  авг11_СлучНабор_213   Случайный набор номера                        ...   \n",
              "1  авг15_СлучНабор_122   Случайный набор номера                        ...   \n",
              "2  авг09_Молчание_150    Вызов с молчанием                             ...   \n",
              "\n",
              "                                  ierId  \\\n",
              "0  d0cacbea-1791-4d46-9b4f-ad81009eb164   \n",
              "1  c3b8c2c3-6419-4b88-bfbb-ad85009a733f   \n",
              "2  f3be67f9-83e9-4888-910a-ad7f009ae335   \n",
              "\n",
              "                                               point  \\\n",
              "0  [{\"lat\": 48.8031, \"lon\": 44.7532}]            ...   \n",
              "1  [{\"lat\": 48.7414, \"lon\": 44.5453}]            ...   \n",
              "2  [{\"lat\": 48.8061, \"lon\": 44.7559}]            ...   \n",
              "\n",
              "                        state  \\\n",
              "0  Карточка закрыта             \n",
              "1  Карточка закрыта             \n",
              "2  Карточка закрыта             \n",
              "\n",
              "                                              action  \\\n",
              "0  [NULL]                                        ...   \n",
              "1  [NULL]                                        ...   \n",
              "2  [NULL]                                        ...   \n",
              "\n",
              "                                 cardId                       region  \\\n",
              "0  0c9bcba0-de53-4942-83f2-ad81009ee057  Волгоград Ворошиловский       \n",
              "1  963f0751-961a-4761-b205-ad85009a7f89  Волгоград Ворошиловский       \n",
              "2  d404c079-19a0-4a9c-8ca2-ad7f009af53e  Волгоград Ворошиловский       \n",
              "\n",
              "             ierType     cityCode regionId  \\\n",
              "0  Телефонный звонок  [NULL]            10   \n",
              "1  Телефонный звонок  [NULL]            10   \n",
              "2  Телефонный звонок  [NULL]            10   \n",
              "\n",
              "                             cityFiasId  \\\n",
              "0  [NULL]                                 \n",
              "1  [NULL]                                 \n",
              "2  [NULL]                                 \n",
              "\n",
              "                                          membership       streetCode  \\\n",
              "0                                                ...  [NULL]            \n",
              "1                                                ...  [NULL]            \n",
              "2                                                ...  [NULL]            \n",
              "\n",
              "                timeIsoStr  isChemFlood  \\\n",
              "0  2021-08-11T09:38:27.000  false         \n",
              "1  2021-08-15T09:22:30.000  false         \n",
              "2  2021-08-09T09:24:11.000  false         \n",
              "\n",
              "                                        dispatchesId  districtCode  \\\n",
              "0  [NULL]                                        ...  [NULL]         \n",
              "1  [NULL]                                        ...  [NULL]         \n",
              "2  [NULL]                                        ...  [NULL]         \n",
              "\n",
              "                           streetFiasId                      clarification  \\\n",
              "0  [NULL]                                [NULL]                              \n",
              "1  [NULL]                                [NULL]                              \n",
              "2  [NULL]                                [NULL]                              \n",
              "\n",
              "          assignTimeIsoStr  \n",
              "0  [NULL]                   \n",
              "1  [NULL]                   \n",
              "2  [NULL]                   "
            ],
            "text/html": [
              "\n",
              "  <div id=\"df-26a7b8d4-8f41-4954-8520-66d592a2e252\">\n",
              "    <div class=\"colab-df-container\">\n",
              "      <div>\n",
              "<style scoped>\n",
              "    .dataframe tbody tr th:only-of-type {\n",
              "        vertical-align: middle;\n",
              "    }\n",
              "\n",
              "    .dataframe tbody tr th {\n",
              "        vertical-align: top;\n",
              "    }\n",
              "\n",
              "    .dataframe thead th {\n",
              "        text-align: right;\n",
              "    }\n",
              "</style>\n",
              "<table border=\"1\" class=\"dataframe\">\n",
              "  <thead>\n",
              "    <tr style=\"text-align: right;\">\n",
              "      <th></th>\n",
              "      <th>hrId</th>\n",
              "      <th>type</th>\n",
              "      <th>ierId</th>\n",
              "      <th>point</th>\n",
              "      <th>state</th>\n",
              "      <th>action</th>\n",
              "      <th>cardId</th>\n",
              "      <th>region</th>\n",
              "      <th>ierType</th>\n",
              "      <th>cityCode</th>\n",
              "      <th>regionId</th>\n",
              "      <th>cityFiasId</th>\n",
              "      <th>membership</th>\n",
              "      <th>streetCode</th>\n",
              "      <th>timeIsoStr</th>\n",
              "      <th>isChemFlood</th>\n",
              "      <th>dispatchesId</th>\n",
              "      <th>districtCode</th>\n",
              "      <th>streetFiasId</th>\n",
              "      <th>clarification</th>\n",
              "      <th>assignTimeIsoStr</th>\n",
              "    </tr>\n",
              "  </thead>\n",
              "  <tbody>\n",
              "    <tr>\n",
              "      <th>0</th>\n",
              "      <td>авг11_СлучНабор_213</td>\n",
              "      <td>Случайный набор номера                        ...</td>\n",
              "      <td>d0cacbea-1791-4d46-9b4f-ad81009eb164</td>\n",
              "      <td>[{\"lat\": 48.8031, \"lon\": 44.7532}]            ...</td>\n",
              "      <td>Карточка закрыта</td>\n",
              "      <td>[NULL]                                        ...</td>\n",
              "      <td>0c9bcba0-de53-4942-83f2-ad81009ee057</td>\n",
              "      <td>Волгоград Ворошиловский</td>\n",
              "      <td>Телефонный звонок</td>\n",
              "      <td>[NULL]</td>\n",
              "      <td>10</td>\n",
              "      <td>[NULL]</td>\n",
              "      <td>...</td>\n",
              "      <td>[NULL]</td>\n",
              "      <td>2021-08-11T09:38:27.000</td>\n",
              "      <td>false</td>\n",
              "      <td>[NULL]                                        ...</td>\n",
              "      <td>[NULL]</td>\n",
              "      <td>[NULL]</td>\n",
              "      <td>[NULL]</td>\n",
              "      <td>[NULL]</td>\n",
              "    </tr>\n",
              "    <tr>\n",
              "      <th>1</th>\n",
              "      <td>авг15_СлучНабор_122</td>\n",
              "      <td>Случайный набор номера                        ...</td>\n",
              "      <td>c3b8c2c3-6419-4b88-bfbb-ad85009a733f</td>\n",
              "      <td>[{\"lat\": 48.7414, \"lon\": 44.5453}]            ...</td>\n",
              "      <td>Карточка закрыта</td>\n",
              "      <td>[NULL]                                        ...</td>\n",
              "      <td>963f0751-961a-4761-b205-ad85009a7f89</td>\n",
              "      <td>Волгоград Ворошиловский</td>\n",
              "      <td>Телефонный звонок</td>\n",
              "      <td>[NULL]</td>\n",
              "      <td>10</td>\n",
              "      <td>[NULL]</td>\n",
              "      <td>...</td>\n",
              "      <td>[NULL]</td>\n",
              "      <td>2021-08-15T09:22:30.000</td>\n",
              "      <td>false</td>\n",
              "      <td>[NULL]                                        ...</td>\n",
              "      <td>[NULL]</td>\n",
              "      <td>[NULL]</td>\n",
              "      <td>[NULL]</td>\n",
              "      <td>[NULL]</td>\n",
              "    </tr>\n",
              "    <tr>\n",
              "      <th>2</th>\n",
              "      <td>авг09_Молчание_150</td>\n",
              "      <td>Вызов с молчанием                             ...</td>\n",
              "      <td>f3be67f9-83e9-4888-910a-ad7f009ae335</td>\n",
              "      <td>[{\"lat\": 48.8061, \"lon\": 44.7559}]            ...</td>\n",
              "      <td>Карточка закрыта</td>\n",
              "      <td>[NULL]                                        ...</td>\n",
              "      <td>d404c079-19a0-4a9c-8ca2-ad7f009af53e</td>\n",
              "      <td>Волгоград Ворошиловский</td>\n",
              "      <td>Телефонный звонок</td>\n",
              "      <td>[NULL]</td>\n",
              "      <td>10</td>\n",
              "      <td>[NULL]</td>\n",
              "      <td>...</td>\n",
              "      <td>[NULL]</td>\n",
              "      <td>2021-08-09T09:24:11.000</td>\n",
              "      <td>false</td>\n",
              "      <td>[NULL]                                        ...</td>\n",
              "      <td>[NULL]</td>\n",
              "      <td>[NULL]</td>\n",
              "      <td>[NULL]</td>\n",
              "      <td>[NULL]</td>\n",
              "    </tr>\n",
              "  </tbody>\n",
              "</table>\n",
              "</div>\n",
              "      <button class=\"colab-df-convert\" onclick=\"convertToInteractive('df-26a7b8d4-8f41-4954-8520-66d592a2e252')\"\n",
              "              title=\"Convert this dataframe to an interactive table.\"\n",
              "              style=\"display:none;\">\n",
              "        \n",
              "  <svg xmlns=\"http://www.w3.org/2000/svg\" height=\"24px\"viewBox=\"0 0 24 24\"\n",
              "       width=\"24px\">\n",
              "    <path d=\"M0 0h24v24H0V0z\" fill=\"none\"/>\n",
              "    <path d=\"M18.56 5.44l.94 2.06.94-2.06 2.06-.94-2.06-.94-.94-2.06-.94 2.06-2.06.94zm-11 1L8.5 8.5l.94-2.06 2.06-.94-2.06-.94L8.5 2.5l-.94 2.06-2.06.94zm10 10l.94 2.06.94-2.06 2.06-.94-2.06-.94-.94-2.06-.94 2.06-2.06.94z\"/><path d=\"M17.41 7.96l-1.37-1.37c-.4-.4-.92-.59-1.43-.59-.52 0-1.04.2-1.43.59L10.3 9.45l-7.72 7.72c-.78.78-.78 2.05 0 2.83L4 21.41c.39.39.9.59 1.41.59.51 0 1.02-.2 1.41-.59l7.78-7.78 2.81-2.81c.8-.78.8-2.07 0-2.86zM5.41 20L4 18.59l7.72-7.72 1.47 1.35L5.41 20z\"/>\n",
              "  </svg>\n",
              "      </button>\n",
              "      \n",
              "  <style>\n",
              "    .colab-df-container {\n",
              "      display:flex;\n",
              "      flex-wrap:wrap;\n",
              "      gap: 12px;\n",
              "    }\n",
              "\n",
              "    .colab-df-convert {\n",
              "      background-color: #E8F0FE;\n",
              "      border: none;\n",
              "      border-radius: 50%;\n",
              "      cursor: pointer;\n",
              "      display: none;\n",
              "      fill: #1967D2;\n",
              "      height: 32px;\n",
              "      padding: 0 0 0 0;\n",
              "      width: 32px;\n",
              "    }\n",
              "\n",
              "    .colab-df-convert:hover {\n",
              "      background-color: #E2EBFA;\n",
              "      box-shadow: 0px 1px 2px rgba(60, 64, 67, 0.3), 0px 1px 3px 1px rgba(60, 64, 67, 0.15);\n",
              "      fill: #174EA6;\n",
              "    }\n",
              "\n",
              "    [theme=dark] .colab-df-convert {\n",
              "      background-color: #3B4455;\n",
              "      fill: #D2E3FC;\n",
              "    }\n",
              "\n",
              "    [theme=dark] .colab-df-convert:hover {\n",
              "      background-color: #434B5C;\n",
              "      box-shadow: 0px 1px 3px 1px rgba(0, 0, 0, 0.15);\n",
              "      filter: drop-shadow(0px 1px 2px rgba(0, 0, 0, 0.3));\n",
              "      fill: #FFFFFF;\n",
              "    }\n",
              "  </style>\n",
              "\n",
              "      <script>\n",
              "        const buttonEl =\n",
              "          document.querySelector('#df-26a7b8d4-8f41-4954-8520-66d592a2e252 button.colab-df-convert');\n",
              "        buttonEl.style.display =\n",
              "          google.colab.kernel.accessAllowed ? 'block' : 'none';\n",
              "\n",
              "        async function convertToInteractive(key) {\n",
              "          const element = document.querySelector('#df-26a7b8d4-8f41-4954-8520-66d592a2e252');\n",
              "          const dataTable =\n",
              "            await google.colab.kernel.invokeFunction('convertToInteractive',\n",
              "                                                     [key], {});\n",
              "          if (!dataTable) return;\n",
              "\n",
              "          const docLinkHtml = 'Like what you see? Visit the ' +\n",
              "            '<a target=\"_blank\" href=https://colab.research.google.com/notebooks/data_table.ipynb>data table notebook</a>'\n",
              "            + ' to learn more about interactive tables.';\n",
              "          element.innerHTML = '';\n",
              "          dataTable['output_type'] = 'display_data';\n",
              "          await google.colab.output.renderOutput(dataTable, element);\n",
              "          const docLink = document.createElement('div');\n",
              "          docLink.innerHTML = docLinkHtml;\n",
              "          element.appendChild(docLink);\n",
              "        }\n",
              "      </script>\n",
              "    </div>\n",
              "  </div>\n",
              "  "
            ]
          },
          "metadata": {},
          "execution_count": 130
        }
      ]
    },
    {
      "cell_type": "code",
      "source": [
        "# df = df.drop('level', axis=1)"
      ],
      "metadata": {
        "id": "6qSgDrbvA05F"
      },
      "execution_count": null,
      "outputs": []
    },
    {
      "cell_type": "markdown",
      "source": [
        "# Получение даты"
      ],
      "metadata": {
        "id": "j6k9zMWEVQBE"
      }
    },
    {
      "cell_type": "code",
      "source": [
        "df['assignTimeIsoStr'] = df['assignTimeIsoStr'].replace('\\[NULL\\]', '', regex=True)"
      ],
      "metadata": {
        "id": "_keVDn-FWnlO"
      },
      "execution_count": null,
      "outputs": []
    },
    {
      "cell_type": "code",
      "source": [
        "df['assignTimeIsoStr'] = pd.to_datetime(df['assignTimeIsoStr'], errors='coerce')"
      ],
      "metadata": {
        "id": "WL8bLHUPWFAM"
      },
      "execution_count": null,
      "outputs": []
    },
    {
      "cell_type": "code",
      "source": [
        "# df['month_assign'] = pd.DatetimeIndex(df['assignTimeIsoStr']).month\n",
        "# df['year_assign'] = pd.DatetimeIndex(df['assignTimeIsoStr']).year\n",
        "# df['weekday_assign'] = pd.DatetimeIndex(df['assignTimeIsoStr']).weekday\n",
        "# df['day_assign'] = pd.DatetimeIndex(df['assignTimeIsoStr']).day\n",
        "# df['year_assign'] = pd.to_numeric(df['year_assign'], errors='coerce').fillna(0).astype(int)\n",
        "# df['day_assign'] = pd.to_numeric(df['day_assign'], errors='coerce').fillna(0).astype(int)\n",
        "# df['month_assign'] = pd.to_numeric(df['month_assign'], errors='coerce').fillna(0).astype(int)\n",
        "# df['weekday_assign'] = pd.to_numeric(df['weekday_assign'], errors='coerce').fillna(0).astype(int)\n",
        "# df['hour_assign'] = pd.DatetimeIndex(df['assignTimeIsoStr']).hour\n",
        "# df['hour_assign'] = pd.to_numeric(df['hour_assign'], errors='coerce').fillna(0).astype(int)"
      ],
      "metadata": {
        "id": "gJ8oLqqAWO9F"
      },
      "execution_count": null,
      "outputs": []
    },
    {
      "cell_type": "code",
      "source": [
        "df['timeIsoStr'] = pd.to_datetime(df['timeIsoStr'], errors='coerce')\n",
        "df['month'] = pd.DatetimeIndex(df['timeIsoStr']).month\n",
        "df['year'] = pd.DatetimeIndex(df['timeIsoStr']).year\n",
        "df['weekday'] = pd.DatetimeIndex(df['timeIsoStr']).weekday\n",
        "df['day'] = pd.DatetimeIndex(df['timeIsoStr']).day\n",
        "df['year'] = pd.to_numeric(df['year'], errors='coerce').fillna(0).astype(int)\n",
        "df['day'] = pd.to_numeric(df['day'], errors='coerce').fillna(0).astype(int)\n",
        "df['month'] = pd.to_numeric(df['month'], errors='coerce').fillna(0).astype(int)\n",
        "df['weekday'] = pd.to_numeric(df['weekday'], errors='coerce').fillna(0).astype(int)\n",
        "df['hour'] = pd.DatetimeIndex(df['timeIsoStr']).hour\n",
        "df['hour'] = pd.to_numeric(df['hour'], errors='coerce').fillna(0).astype(int)"
      ],
      "metadata": {
        "id": "SWIJw1OuAYlV"
      },
      "execution_count": null,
      "outputs": []
    },
    {
      "cell_type": "markdown",
      "source": [
        "# Категории"
      ],
      "metadata": {
        "id": "hsrOa2yKSr7j"
      }
    },
    {
      "cell_type": "code",
      "source": [
        "df[\"Тип_обращения\"] = pd.Categorical(df[\"type\"])\n",
        "df[\"Тип_обращения\"].astype('category').cat.codes\n",
        "df[\"Тип_обращения\"] = df[\"Тип_обращения\"].cat.codes"
      ],
      "metadata": {
        "id": "QvhWixFlXu_G"
      },
      "execution_count": null,
      "outputs": []
    },
    {
      "cell_type": "code",
      "source": [
        "df[\"Статус_обращения\"] = pd.Categorical(df[\"state\"])\n",
        "df[\"Статус_обращения\"].astype('category').cat.codes\n",
        "df[\"Статус_обращения\"] = df[\"Статус_обращения\"].cat.codes"
      ],
      "metadata": {
        "id": "6Qw1nGIGYj2V"
      },
      "execution_count": null,
      "outputs": []
    },
    {
      "cell_type": "markdown",
      "source": [
        "# Анализ"
      ],
      "metadata": {
        "id": "qEsMVEU4VUP8"
      }
    },
    {
      "cell_type": "code",
      "source": [
        "df.info()"
      ],
      "metadata": {
        "colab": {
          "base_uri": "https://localhost:8080/"
        },
        "id": "VwjlCiGyGEgY",
        "outputId": "d137afd9-3d2a-4940-caf5-c35fefa3d30a"
      },
      "execution_count": null,
      "outputs": [
        {
          "output_type": "stream",
          "name": "stdout",
          "text": [
            "<class 'pandas.core.frame.DataFrame'>\n",
            "RangeIndex: 2517867 entries, 0 to 2517866\n",
            "Data columns (total 28 columns):\n",
            " #   Column            Dtype         \n",
            "---  ------            -----         \n",
            " 0   hrId              object        \n",
            " 1   type              object        \n",
            " 2   ierId             object        \n",
            " 3   point             object        \n",
            " 4   state             object        \n",
            " 5   action            object        \n",
            " 6   cardId            object        \n",
            " 7   region            object        \n",
            " 8   ierType           object        \n",
            " 9   cityCode          object        \n",
            " 10  regionId          object        \n",
            " 11  cityFiasId        object        \n",
            " 12  membership        object        \n",
            " 13  streetCode        object        \n",
            " 14  timeIsoStr        datetime64[ns]\n",
            " 15  isChemFlood       object        \n",
            " 16  dispatchesId      object        \n",
            " 17  districtCode      object        \n",
            " 18  streetFiasId      object        \n",
            " 19  clarification     object        \n",
            " 20  assignTimeIsoStr  object        \n",
            " 21  month             int64         \n",
            " 22  year              int64         \n",
            " 23  weekday           int64         \n",
            " 24  day               int64         \n",
            " 25  hour              int64         \n",
            " 26  Тип_обращения     int16         \n",
            " 27  Статус_обращения  int8          \n",
            "dtypes: datetime64[ns](1), int16(1), int64(5), int8(1), object(20)\n",
            "memory usage: 506.7+ MB\n"
          ]
        }
      ]
    },
    {
      "cell_type": "code",
      "source": [
        "df.type.value_counts().head(25)"
      ],
      "metadata": {
        "colab": {
          "base_uri": "https://localhost:8080/"
        },
        "id": "-iVJ8wMpSz0G",
        "outputId": "e60d9e19-327a-4533-87fb-9c27027a6169"
      },
      "execution_count": null,
      "outputs": [
        {
          "output_type": "execute_result",
          "data": {
            "text/plain": [
              "Вызов с молчанием                                                                      541042\n",
              "Оказание медицинской помощи                                                            523944\n",
              "Случайный набор номера                                                                 357769\n",
              "Прерывание вызова звонящим сразу после подключения                                     240866\n",
              "Получение справок                                                                      148917\n",
              "Правонарушение                                                                         125303\n",
              "Автоматические ложные вызовы                                                            67116\n",
              "Детские шалости                                                                         59040\n",
              "ДТП                                                                                     54844\n",
              "Неправильное понимание экстренной ситуации                                              47196\n",
              "Психически неуравновешенные люди                                                        29140\n",
              "Электроснабжение                                                                        22665\n",
              "не задано                                                                               19778\n",
              "Водоснабжение                                                                           19199\n",
              "Кража                                                                                   17856\n",
              "Труп                                                                                    17540\n",
              "Причинение вреда здоровью                                                               13975\n",
              "Неправильный набор номера (ошибочный)                                                   13935\n",
              "Семейный конфликт                                                                       12326\n",
              "Помощь населению                                                                        10077\n",
              "Пожар ландшафтный                                                                        9298\n",
              "Пожар загорание/задымление                                                               8824\n",
              "Covid – Симптомы                                                                         8195\n",
              "Вскрытие дверей                                                                          7647\n",
              "Водоотведение                                                                            7090\n",
              "Name: type, dtype: int64"
            ]
          },
          "metadata": {},
          "execution_count": 234
        }
      ]
    },
    {
      "cell_type": "markdown",
      "source": [
        "# Гео"
      ],
      "metadata": {
        "id": "QSJGlZJLSpXs"
      }
    },
    {
      "cell_type": "code",
      "source": [
        "# pip install geopandas"
      ],
      "metadata": {
        "id": "1x-yhhnMhgnn"
      },
      "execution_count": null,
      "outputs": []
    },
    {
      "cell_type": "code",
      "source": [
        "# from geopy.geocoders import Nominatim\n",
        "# geolocator = Nominatim(user_agent=\"geoapiExercises\")"
      ],
      "metadata": {
        "id": "-pLKoN04f_ho"
      },
      "execution_count": null,
      "outputs": []
    },
    {
      "cell_type": "code",
      "source": [
        "df['point'].value_counts().head(25)"
      ],
      "metadata": {
        "colab": {
          "base_uri": "https://localhost:8080/"
        },
        "id": "DNqeW4O939zt",
        "outputId": "045e5741-0c64-499b-d3f3-8c00196ab46c"
      },
      "execution_count": null,
      "outputs": [
        {
          "output_type": "execute_result",
          "data": {
            "text/plain": [
              "[{\"lat\": 48.707103, \"lon\": 44.516939}]                      29460\n",
              "[{\"lat\": 48.707103, \"lon\": 44.516939}]                      25216\n",
              "[{\"lat\": 48.707103, \"lon\": 44.516939}]                      23680\n",
              "[{\"lat\": 48.6321, \"lon\": 44.4407}]                          12984\n",
              "[{\"lat\": 48.707103, \"lon\": 44.516939}]                      12523\n",
              "[{\"lat\": 48.6321, \"lon\": 44.4407}]                          10173\n",
              "[{\"lat\": 48.8286, \"lon\": 44.7603}]                          10009\n",
              "[{\"lat\": 50.0734, \"lon\": 45.3934}]                           8110\n",
              "[{\"lat\": 48.8286, \"lon\": 44.7603}]                           7357\n",
              "[{\"lat\": 48.6321, \"lon\": 44.4407}]                           7331\n",
              "[{\"lat\": 50.0734, \"lon\": 45.3934}]                           6275\n",
              "[{\"lat\": 48.8286, \"lon\": 44.7603}]                           6049\n",
              "[{\"lat\": 48.6321, \"lon\": 44.4407}]                           6036\n",
              "[{\"lat\": 48.8286, \"lon\": 44.7603}]                           5292\n",
              "[{\"lat\": 50.0734, \"lon\": 45.3934}]                           4747\n",
              "[{\"lat\": 50.9849969392598, \"lon\": 44.7793782917138}]         4101\n",
              "[{\"lat\": 50.0734, \"lon\": 45.3934}]                           3478\n",
              "[{\"lat\": 50.9849969392598, \"lon\": 44.7793782917138}]         3455\n",
              "[{\"lat\": 50.0712, \"lon\": 45.3843}]                           3190\n",
              "[{\"lat\": 50.7942, \"lon\": 42.0067}]                           2303\n",
              "[{\"lat\": 50.9849969392598, \"lon\": 44.7793782917138}]         2186\n",
              "[{\"lat\": 48.7071, \"lon\": 44.5169}]                           1519\n",
              "[{\"lat\": 48.7071, \"lon\": 44.5169}]                           1500\n",
              "[{\"lat\": 50.0733638803504, \"lon\": 45.3933623843025}]         1415\n",
              "[{\"lat\": 48.9681, \"lon\": 46.7951}]                           1348\n",
              "Name: point, dtype: int64"
            ]
          },
          "metadata": {},
          "execution_count": 235
        }
      ]
    },
    {
      "cell_type": "code",
      "source": [
        "# df['point'][0]"
      ],
      "metadata": {
        "colab": {
          "base_uri": "https://localhost:8080/"
        },
        "id": "AqkJyS_-hIEW",
        "outputId": "05ce7035-81c2-4bb5-ee9e-77cf2a5b1707"
      },
      "execution_count": null,
      "outputs": [
        {
          "output_type": "execute_result",
          "data": {
            "text/plain": [
              "'[{\"lat\": 48.8031, \"lon\": 44.7532}]                  '"
            ],
            "application/vnd.google.colaboratory.intrinsic+json": {
              "type": "string"
            }
          },
          "metadata": {},
          "execution_count": 89
        }
      ]
    },
    {
      "cell_type": "code",
      "source": [
        "# new_df = pd.DataFrame(columns=[\"Long\", \"Lat\"])\n",
        "\n",
        "# for i, row in df.iterrows():\n",
        "#     new = pd.DataFrame({\"Long\": row[\"point\"][0], \"Lat\": row[\"point\"][1]}, index=[i])\n",
        "#     new_df = new_df.append(new)\n",
        "\n",
        "# print(new_df)"
      ],
      "metadata": {
        "id": "fiuqpqzCp6Cy"
      },
      "execution_count": null,
      "outputs": []
    },
    {
      "cell_type": "code",
      "source": [
        ""
      ],
      "metadata": {
        "id": "fchYIWf0w_nW"
      },
      "execution_count": null,
      "outputs": []
    },
    {
      "cell_type": "code",
      "source": [
        "# importing modules\n",
        "from geopy.geocoders import Nominatim\n",
        " \n",
        "# calling the nominatim tool\n",
        "geoLoc = Nominatim(user_agent=\"GetLoc\")\n",
        " \n",
        "# passing the coordinates\n",
        "locname = geoLoc.reverse(\"48.707103, 44.516939\")\n",
        " \n",
        "# printing the address/location name\n",
        "print(locname.address)"
      ],
      "metadata": {
        "colab": {
          "base_uri": "https://localhost:8080/"
        },
        "id": "oJq_1dfiw_qR",
        "outputId": "1f550544-4f06-4b91-d980-6a0a26a0dd10"
      },
      "execution_count": null,
      "outputs": [
        {
          "output_type": "stream",
          "name": "stdout",
          "text": [
            "проспект Ленина, Центральный район, Волгоград, городской округ Волгоград, Волгоградская область, Южный федеральный округ, 400066, Россия\n"
          ]
        }
      ]
    },
    {
      "cell_type": "code",
      "source": [
        ""
      ],
      "metadata": {
        "id": "Ui3Ahm3mw_td"
      },
      "execution_count": null,
      "outputs": []
    },
    {
      "cell_type": "markdown",
      "source": [
        "# Визуализация и тепловая карта"
      ],
      "metadata": {
        "id": "VFu49KJ7ToSS"
      }
    },
    {
      "cell_type": "code",
      "source": [
        "top_loc = df[['region']].value_counts().sort_values(ascending=False)\n",
        "top_loc = top_loc[:20].reset_index()['region']\n",
        "top_loc"
      ],
      "metadata": {
        "colab": {
          "base_uri": "https://localhost:8080/"
        },
        "id": "KUylu181SZuT",
        "outputId": "4cb95687-f7c1-4c60-db3c-6b7401d85d48"
      },
      "execution_count": null,
      "outputs": [
        {
          "output_type": "execute_result",
          "data": {
            "text/plain": [
              "0     Волгоград Ворошиловский    \n",
              "1     Волгоград                  \n",
              "2     Волжский                   \n",
              "3     Волгоград Дзержинский      \n",
              "4     Волгоград Красноармейский  \n",
              "5     Камышинский                \n",
              "6     Волгоград Краснооктябрьский\n",
              "7     Волгоград Тракторозаводский\n",
              "8     Волгоград Советский        \n",
              "9     Волгоград Центральный      \n",
              "10    Волгоград Кировский        \n",
              "11    Жирновский                 \n",
              "12    Михайловский               \n",
              "13    Среднеахтубинский          \n",
              "14    Урюпинский                 \n",
              "15    Калачевский                \n",
              "16    Городищенский              \n",
              "17    Фроловский                 \n",
              "18    Серафимовичский            \n",
              "19    Светлоярский               \n",
              "Name: region, dtype: object"
            ]
          },
          "metadata": {},
          "execution_count": 141
        }
      ]
    },
    {
      "cell_type": "code",
      "source": [
        "d1 = df[df['region'].isin(top_loc)]\n",
        "d1.hist(figsize=(20,10)) # выведем распределения каждой величины"
      ],
      "metadata": {
        "colab": {
          "base_uri": "https://localhost:8080/",
          "height": 1000
        },
        "outputId": "e79aa12f-d65b-44ee-bdad-525efc4cf67c",
        "id": "AMUgmWB9RzAI"
      },
      "execution_count": null,
      "outputs": [
        {
          "output_type": "execute_result",
          "data": {
            "text/plain": [
              "array([[<matplotlib.axes._subplots.AxesSubplot object at 0x7f02fb821250>,\n",
              "        <matplotlib.axes._subplots.AxesSubplot object at 0x7f02fb4c31d0>,\n",
              "        <matplotlib.axes._subplots.AxesSubplot object at 0x7f034a0e4090>],\n",
              "       [<matplotlib.axes._subplots.AxesSubplot object at 0x7f02fb454f50>,\n",
              "        <matplotlib.axes._subplots.AxesSubplot object at 0x7f02fb409590>,\n",
              "        <matplotlib.axes._subplots.AxesSubplot object at 0x7f02fb3b4b90>],\n",
              "       [<matplotlib.axes._subplots.AxesSubplot object at 0x7f02fb36b250>,\n",
              "        <matplotlib.axes._subplots.AxesSubplot object at 0x7f02fb398790>,\n",
              "        <matplotlib.axes._subplots.AxesSubplot object at 0x7f02fb3987d0>]],\n",
              "      dtype=object)"
            ]
          },
          "metadata": {},
          "execution_count": 177
        },
        {
          "output_type": "display_data",
          "data": {
            "text/plain": [
              "<Figure size 1440x1440 with 9 Axes>"
            ],
            "image/png": "[encoded data removed]"
          },
          "metadata": {
            "needs_background": "light"
          }
        }
      ]
    },
    {
      "cell_type": "code",
      "source": [
        "corr=df.corr()\n",
        "corr"
      ],
      "metadata": {
        "colab": {
          "base_uri": "https://localhost:8080/",
          "height": 269
        },
        "id": "BAs11g-HTQ0I",
        "outputId": "4ebbb60f-d3f4-4046-ebae-edbcd6a2fb9e"
      },
      "execution_count": null,
      "outputs": [
        {
          "output_type": "execute_result",
          "data": {
            "text/plain": [
              "                     month      year   weekday       day      hour  \\\n",
              "month             1.000000 -0.072654 -0.009764  0.027465 -0.006151   \n",
              "year             -0.072654  1.000000  0.005422 -0.001695 -0.008843   \n",
              "weekday          -0.009764  0.005422  1.000000 -0.023293  0.005328   \n",
              "day               0.027465 -0.001695 -0.023293  1.000000  0.004034   \n",
              "hour             -0.006151 -0.008843  0.005328  0.004034  1.000000   \n",
              "Тип_обращения     0.004992  0.029013  0.012742 -0.006454  0.013559   \n",
              "Статус_обращения -0.121950 -0.019408  0.001847 -0.005731  0.056826   \n",
              "\n",
              "                  Тип_обращения  Статус_обращения  \n",
              "month                  0.004992         -0.121950  \n",
              "year                   0.029013         -0.019408  \n",
              "weekday                0.012742          0.001847  \n",
              "day                   -0.006454         -0.005731  \n",
              "hour                   0.013559          0.056826  \n",
              "Тип_обращения          1.000000         -0.004548  \n",
              "Статус_обращения      -0.004548          1.000000  "
            ],
            "text/html": [
              "\n",
              "  <div id=\"df-b68d8f0c-ba06-4ad5-9787-8271255c9553\">\n",
              "    <div class=\"colab-df-container\">\n",
              "      <div>\n",
              "<style scoped>\n",
              "    .dataframe tbody tr th:only-of-type {\n",
              "        vertical-align: middle;\n",
              "    }\n",
              "\n",
              "    .dataframe tbody tr th {\n",
              "        vertical-align: top;\n",
              "    }\n",
              "\n",
              "    .dataframe thead th {\n",
              "        text-align: right;\n",
              "    }\n",
              "</style>\n",
              "<table border=\"1\" class=\"dataframe\">\n",
              "  <thead>\n",
              "    <tr style=\"text-align: right;\">\n",
              "      <th></th>\n",
              "      <th>month</th>\n",
              "      <th>year</th>\n",
              "      <th>weekday</th>\n",
              "      <th>day</th>\n",
              "      <th>hour</th>\n",
              "      <th>Тип_обращения</th>\n",
              "      <th>Статус_обращения</th>\n",
              "    </tr>\n",
              "  </thead>\n",
              "  <tbody>\n",
              "    <tr>\n",
              "      <th>month</th>\n",
              "      <td>1.000000</td>\n",
              "      <td>-0.072654</td>\n",
              "      <td>-0.009764</td>\n",
              "      <td>0.027465</td>\n",
              "      <td>-0.006151</td>\n",
              "      <td>0.004992</td>\n",
              "      <td>-0.121950</td>\n",
              "    </tr>\n",
              "    <tr>\n",
              "      <th>year</th>\n",
              "      <td>-0.072654</td>\n",
              "      <td>1.000000</td>\n",
              "      <td>0.005422</td>\n",
              "      <td>-0.001695</td>\n",
              "      <td>-0.008843</td>\n",
              "      <td>0.029013</td>\n",
              "      <td>-0.019408</td>\n",
              "    </tr>\n",
              "    <tr>\n",
              "      <th>weekday</th>\n",
              "      <td>-0.009764</td>\n",
              "      <td>0.005422</td>\n",
              "      <td>1.000000</td>\n",
              "      <td>-0.023293</td>\n",
              "      <td>0.005328</td>\n",
              "      <td>0.012742</td>\n",
              "      <td>0.001847</td>\n",
              "    </tr>\n",
              "    <tr>\n",
              "      <th>day</th>\n",
              "      <td>0.027465</td>\n",
              "      <td>-0.001695</td>\n",
              "      <td>-0.023293</td>\n",
              "      <td>1.000000</td>\n",
              "      <td>0.004034</td>\n",
              "      <td>-0.006454</td>\n",
              "      <td>-0.005731</td>\n",
              "    </tr>\n",
              "    <tr>\n",
              "      <th>hour</th>\n",
              "      <td>-0.006151</td>\n",
              "      <td>-0.008843</td>\n",
              "      <td>0.005328</td>\n",
              "      <td>0.004034</td>\n",
              "      <td>1.000000</td>\n",
              "      <td>0.013559</td>\n",
              "      <td>0.056826</td>\n",
              "    </tr>\n",
              "    <tr>\n",
              "      <th>Тип_обращения</th>\n",
              "      <td>0.004992</td>\n",
              "      <td>0.029013</td>\n",
              "      <td>0.012742</td>\n",
              "      <td>-0.006454</td>\n",
              "      <td>0.013559</td>\n",
              "      <td>1.000000</td>\n",
              "      <td>-0.004548</td>\n",
              "    </tr>\n",
              "    <tr>\n",
              "      <th>Статус_обращения</th>\n",
              "      <td>-0.121950</td>\n",
              "      <td>-0.019408</td>\n",
              "      <td>0.001847</td>\n",
              "      <td>-0.005731</td>\n",
              "      <td>0.056826</td>\n",
              "      <td>-0.004548</td>\n",
              "      <td>1.000000</td>\n",
              "    </tr>\n",
              "  </tbody>\n",
              "</table>\n",
              "</div>\n",
              "      <button class=\"colab-df-convert\" onclick=\"convertToInteractive('df-b68d8f0c-ba06-4ad5-9787-8271255c9553')\"\n",
              "              title=\"Convert this dataframe to an interactive table.\"\n",
              "              style=\"display:none;\">\n",
              "        \n",
              "  <svg xmlns=\"http://www.w3.org/2000/svg\" height=\"24px\"viewBox=\"0 0 24 24\"\n",
              "       width=\"24px\">\n",
              "    <path d=\"M0 0h24v24H0V0z\" fill=\"none\"/>\n",
              "    <path d=\"M18.56 5.44l.94 2.06.94-2.06 2.06-.94-2.06-.94-.94-2.06-.94 2.06-2.06.94zm-11 1L8.5 8.5l.94-2.06 2.06-.94-2.06-.94L8.5 2.5l-.94 2.06-2.06.94zm10 10l.94 2.06.94-2.06 2.06-.94-2.06-.94-.94-2.06-.94 2.06-2.06.94z\"/><path d=\"M17.41 7.96l-1.37-1.37c-.4-.4-.92-.59-1.43-.59-.52 0-1.04.2-1.43.59L10.3 9.45l-7.72 7.72c-.78.78-.78 2.05 0 2.83L4 21.41c.39.39.9.59 1.41.59.51 0 1.02-.2 1.41-.59l7.78-7.78 2.81-2.81c.8-.78.8-2.07 0-2.86zM5.41 20L4 18.59l7.72-7.72 1.47 1.35L5.41 20z\"/>\n",
              "  </svg>\n",
              "      </button>\n",
              "      \n",
              "  <style>\n",
              "    .colab-df-container {\n",
              "      display:flex;\n",
              "      flex-wrap:wrap;\n",
              "      gap: 12px;\n",
              "    }\n",
              "\n",
              "    .colab-df-convert {\n",
              "      background-color: #E8F0FE;\n",
              "      border: none;\n",
              "      border-radius: 50%;\n",
              "      cursor: pointer;\n",
              "      display: none;\n",
              "      fill: #1967D2;\n",
              "      height: 32px;\n",
              "      padding: 0 0 0 0;\n",
              "      width: 32px;\n",
              "    }\n",
              "\n",
              "    .colab-df-convert:hover {\n",
              "      background-color: #E2EBFA;\n",
              "      box-shadow: 0px 1px 2px rgba(60, 64, 67, 0.3), 0px 1px 3px 1px rgba(60, 64, 67, 0.15);\n",
              "      fill: #174EA6;\n",
              "    }\n",
              "\n",
              "    [theme=dark] .colab-df-convert {\n",
              "      background-color: #3B4455;\n",
              "      fill: #D2E3FC;\n",
              "    }\n",
              "\n",
              "    [theme=dark] .colab-df-convert:hover {\n",
              "      background-color: #434B5C;\n",
              "      box-shadow: 0px 1px 3px 1px rgba(0, 0, 0, 0.15);\n",
              "      filter: drop-shadow(0px 1px 2px rgba(0, 0, 0, 0.3));\n",
              "      fill: #FFFFFF;\n",
              "    }\n",
              "  </style>\n",
              "\n",
              "      <script>\n",
              "        const buttonEl =\n",
              "          document.querySelector('#df-b68d8f0c-ba06-4ad5-9787-8271255c9553 button.colab-df-convert');\n",
              "        buttonEl.style.display =\n",
              "          google.colab.kernel.accessAllowed ? 'block' : 'none';\n",
              "\n",
              "        async function convertToInteractive(key) {\n",
              "          const element = document.querySelector('#df-b68d8f0c-ba06-4ad5-9787-8271255c9553');\n",
              "          const dataTable =\n",
              "            await google.colab.kernel.invokeFunction('convertToInteractive',\n",
              "                                                     [key], {});\n",
              "          if (!dataTable) return;\n",
              "\n",
              "          const docLinkHtml = 'Like what you see? Visit the ' +\n",
              "            '<a target=\"_blank\" href=https://colab.research.google.com/notebooks/data_table.ipynb>data table notebook</a>'\n",
              "            + ' to learn more about interactive tables.';\n",
              "          element.innerHTML = '';\n",
              "          dataTable['output_type'] = 'display_data';\n",
              "          await google.colab.output.renderOutput(dataTable, element);\n",
              "          const docLink = document.createElement('div');\n",
              "          docLink.innerHTML = docLinkHtml;\n",
              "          element.appendChild(docLink);\n",
              "        }\n",
              "      </script>\n",
              "    </div>\n",
              "  </div>\n",
              "  "
            ]
          },
          "metadata": {},
          "execution_count": 143
        }
      ]
    },
    {
      "cell_type": "code",
      "source": [
        "import numpy as np"
      ],
      "metadata": {
        "id": "6o10N5u-TdP8"
      },
      "execution_count": null,
      "outputs": []
    },
    {
      "cell_type": "code",
      "source": [
        "plt.figure(figsize=(15,10))\n",
        "mask = np.zeros_like(corr, dtype=np.bool)\n",
        "mask[np.triu_indices_from(mask)] = True\n",
        "sns.heatmap(corr, linewidths=.5,annot=True,mask=mask)"
      ],
      "metadata": {
        "colab": {
          "base_uri": "https://localhost:8080/",
          "height": 681
        },
        "id": "WzSEnSJRTZXg",
        "outputId": "db1ad095-ac64-4ac6-bc93-ea055c7b7618"
      },
      "execution_count": null,
      "outputs": [
        {
          "output_type": "stream",
          "name": "stderr",
          "text": [
            "/usr/local/lib/python3.7/dist-packages/ipykernel_launcher.py:2: DeprecationWarning: `np.bool` is a deprecated alias for the builtin `bool`. To silence this warning, use `bool` by itself. Doing this will not modify any behavior and is safe. If you specifically wanted the numpy scalar type, use `np.bool_` here.\n",
            "Deprecated in NumPy 1.20; for more details and guidance: https://numpy.org/devdocs/release/1.20.0-notes.html#deprecations\n",
            "  \n"
          ]
        },
        {
          "output_type": "execute_result",
          "data": {
            "text/plain": [
              "<matplotlib.axes._subplots.AxesSubplot at 0x7f02f8400950>"
            ]
          },
          "metadata": {},
          "execution_count": 237
        },
        {
          "output_type": "display_data",
          "data": {
            "text/plain": [
              "<Figure size 1080x720 with 2 Axes>"
            ],
            "image/png": "[encoded data removed]"
          },
          "metadata": {
            "needs_background": "light"
          }
        }
      ]
    },
    {
      "cell_type": "markdown",
      "source": [
        "Aнализ имеющегося массива данных по свершившимся происшествиям на территории Волгоградской области, в разрезе муниципальных образований"
      ],
      "metadata": {
        "id": "Ci0zlVqbUkj3"
      }
    },
    {
      "cell_type": "code",
      "source": [
        "d2 = df[df['region'].isin(top_loc)].groupby(['region','type'])['hrId'].count().reset_index()"
      ],
      "metadata": {
        "id": "_d8zrroDTl5Z"
      },
      "execution_count": null,
      "outputs": []
    },
    {
      "cell_type": "code",
      "source": [
        "d2_ = pd.crosstab(d2['region'], d2['type'],values=d2['hrId'],aggfunc=np.sum,normalize='columns')"
      ],
      "metadata": {
        "id": "BaK9N4zITl8c"
      },
      "execution_count": null,
      "outputs": []
    },
    {
      "cell_type": "code",
      "source": [
        "sns.heatmap(d2_)"
      ],
      "metadata": {
        "colab": {
          "base_uri": "https://localhost:8080/",
          "height": 685
        },
        "id": "KyR8_C6JTl_l",
        "outputId": "adb3848b-8ff7-4b34-c19d-63b119db1fd5"
      },
      "execution_count": null,
      "outputs": [
        {
          "output_type": "execute_result",
          "data": {
            "text/plain": [
              "<matplotlib.axes._subplots.AxesSubplot at 0x7f02f7cb5c50>"
            ]
          },
          "metadata": {},
          "execution_count": 148
        },
        {
          "output_type": "display_data",
          "data": {
            "text/plain": [
              "<Figure size 432x288 with 2 Axes>"
            ],
            "image/png": "[encoded data removed]"
          },
          "metadata": {
            "needs_background": "light"
          }
        }
      ]
    },
    {
      "cell_type": "code",
      "source": [
        "d1.head(2)"
      ],
      "metadata": {
        "colab": {
          "base_uri": "https://localhost:8080/",
          "height": 315
        },
        "id": "j_BkQytjZMc3",
        "outputId": "b59636b9-30e2-4b71-9d57-1c17ec1d4149"
      },
      "execution_count": null,
      "outputs": [
        {
          "output_type": "execute_result",
          "data": {
            "text/plain": [
              "                   hrId                                               type  \\\n",
              "0  авг11_СлучНабор_213   Случайный набор номера                        ...   \n",
              "1  авг15_СлучНабор_122   Случайный набор номера                        ...   \n",
              "\n",
              "                                  ierId  \\\n",
              "0  d0cacbea-1791-4d46-9b4f-ad81009eb164   \n",
              "1  c3b8c2c3-6419-4b88-bfbb-ad85009a733f   \n",
              "\n",
              "                                               point  \\\n",
              "0  [{\"lat\": 48.8031, \"lon\": 44.7532}]            ...   \n",
              "1  [{\"lat\": 48.7414, \"lon\": 44.5453}]            ...   \n",
              "\n",
              "                        state  \\\n",
              "0  Карточка закрыта             \n",
              "1  Карточка закрыта             \n",
              "\n",
              "                                              action  \\\n",
              "0  [NULL]                                        ...   \n",
              "1  [NULL]                                        ...   \n",
              "\n",
              "                                 cardId                       region  \\\n",
              "0  0c9bcba0-de53-4942-83f2-ad81009ee057  Волгоград Ворошиловский       \n",
              "1  963f0751-961a-4761-b205-ad85009a7f89  Волгоград Ворошиловский       \n",
              "\n",
              "             ierType     cityCode regionId  \\\n",
              "0  Телефонный звонок  [NULL]            10   \n",
              "1  Телефонный звонок  [NULL]            10   \n",
              "\n",
              "                             cityFiasId  \\\n",
              "0  [NULL]                                 \n",
              "1  [NULL]                                 \n",
              "\n",
              "                                          membership       streetCode  \\\n",
              "0                                                ...  [NULL]            \n",
              "1                                                ...  [NULL]            \n",
              "\n",
              "           timeIsoStr  isChemFlood  \\\n",
              "0 2021-08-11 09:38:27  false         \n",
              "1 2021-08-15 09:22:30  false         \n",
              "\n",
              "                                        dispatchesId  districtCode  \\\n",
              "0  [NULL]                                        ...  [NULL]         \n",
              "1  [NULL]                                        ...  [NULL]         \n",
              "\n",
              "                           streetFiasId                      clarification  \\\n",
              "0  [NULL]                                [NULL]                              \n",
              "1  [NULL]                                [NULL]                              \n",
              "\n",
              "    assignTimeIsoStr  month  year  weekday  day  hour  Тип_обращения  \\\n",
              "0                         8  2021        2   11     9            418   \n",
              "1                         8  2021        6   15     9            418   \n",
              "\n",
              "   Статус_обращения  \n",
              "0                 3  \n",
              "1                 3  "
            ],
            "text/html": [
              "\n",
              "  <div id=\"df-ecce5a82-463f-4547-a659-d5973f658db7\">\n",
              "    <div class=\"colab-df-container\">\n",
              "      <div>\n",
              "<style scoped>\n",
              "    .dataframe tbody tr th:only-of-type {\n",
              "        vertical-align: middle;\n",
              "    }\n",
              "\n",
              "    .dataframe tbody tr th {\n",
              "        vertical-align: top;\n",
              "    }\n",
              "\n",
              "    .dataframe thead th {\n",
              "        text-align: right;\n",
              "    }\n",
              "</style>\n",
              "<table border=\"1\" class=\"dataframe\">\n",
              "  <thead>\n",
              "    <tr style=\"text-align: right;\">\n",
              "      <th></th>\n",
              "      <th>hrId</th>\n",
              "      <th>type</th>\n",
              "      <th>ierId</th>\n",
              "      <th>point</th>\n",
              "      <th>state</th>\n",
              "      <th>action</th>\n",
              "      <th>cardId</th>\n",
              "      <th>region</th>\n",
              "      <th>ierType</th>\n",
              "      <th>cityCode</th>\n",
              "      <th>regionId</th>\n",
              "      <th>cityFiasId</th>\n",
              "      <th>membership</th>\n",
              "      <th>streetCode</th>\n",
              "      <th>timeIsoStr</th>\n",
              "      <th>isChemFlood</th>\n",
              "      <th>dispatchesId</th>\n",
              "      <th>districtCode</th>\n",
              "      <th>streetFiasId</th>\n",
              "      <th>clarification</th>\n",
              "      <th>assignTimeIsoStr</th>\n",
              "      <th>month</th>\n",
              "      <th>year</th>\n",
              "      <th>weekday</th>\n",
              "      <th>day</th>\n",
              "      <th>hour</th>\n",
              "      <th>Тип_обращения</th>\n",
              "      <th>Статус_обращения</th>\n",
              "    </tr>\n",
              "  </thead>\n",
              "  <tbody>\n",
              "    <tr>\n",
              "      <th>0</th>\n",
              "      <td>авг11_СлучНабор_213</td>\n",
              "      <td>Случайный набор номера                        ...</td>\n",
              "      <td>d0cacbea-1791-4d46-9b4f-ad81009eb164</td>\n",
              "      <td>[{\"lat\": 48.8031, \"lon\": 44.7532}]            ...</td>\n",
              "      <td>Карточка закрыта</td>\n",
              "      <td>[NULL]                                        ...</td>\n",
              "      <td>0c9bcba0-de53-4942-83f2-ad81009ee057</td>\n",
              "      <td>Волгоград Ворошиловский</td>\n",
              "      <td>Телефонный звонок</td>\n",
              "      <td>[NULL]</td>\n",
              "      <td>10</td>\n",
              "      <td>[NULL]</td>\n",
              "      <td>...</td>\n",
              "      <td>[NULL]</td>\n",
              "      <td>2021-08-11 09:38:27</td>\n",
              "      <td>false</td>\n",
              "      <td>[NULL]                                        ...</td>\n",
              "      <td>[NULL]</td>\n",
              "      <td>[NULL]</td>\n",
              "      <td>[NULL]</td>\n",
              "      <td></td>\n",
              "      <td>8</td>\n",
              "      <td>2021</td>\n",
              "      <td>2</td>\n",
              "      <td>11</td>\n",
              "      <td>9</td>\n",
              "      <td>418</td>\n",
              "      <td>3</td>\n",
              "    </tr>\n",
              "    <tr>\n",
              "      <th>1</th>\n",
              "      <td>авг15_СлучНабор_122</td>\n",
              "      <td>Случайный набор номера                        ...</td>\n",
              "      <td>c3b8c2c3-6419-4b88-bfbb-ad85009a733f</td>\n",
              "      <td>[{\"lat\": 48.7414, \"lon\": 44.5453}]            ...</td>\n",
              "      <td>Карточка закрыта</td>\n",
              "      <td>[NULL]                                        ...</td>\n",
              "      <td>963f0751-961a-4761-b205-ad85009a7f89</td>\n",
              "      <td>Волгоград Ворошиловский</td>\n",
              "      <td>Телефонный звонок</td>\n",
              "      <td>[NULL]</td>\n",
              "      <td>10</td>\n",
              "      <td>[NULL]</td>\n",
              "      <td>...</td>\n",
              "      <td>[NULL]</td>\n",
              "      <td>2021-08-15 09:22:30</td>\n",
              "      <td>false</td>\n",
              "      <td>[NULL]                                        ...</td>\n",
              "      <td>[NULL]</td>\n",
              "      <td>[NULL]</td>\n",
              "      <td>[NULL]</td>\n",
              "      <td></td>\n",
              "      <td>8</td>\n",
              "      <td>2021</td>\n",
              "      <td>6</td>\n",
              "      <td>15</td>\n",
              "      <td>9</td>\n",
              "      <td>418</td>\n",
              "      <td>3</td>\n",
              "    </tr>\n",
              "  </tbody>\n",
              "</table>\n",
              "</div>\n",
              "      <button class=\"colab-df-convert\" onclick=\"convertToInteractive('df-ecce5a82-463f-4547-a659-d5973f658db7')\"\n",
              "              title=\"Convert this dataframe to an interactive table.\"\n",
              "              style=\"display:none;\">\n",
              "        \n",
              "  <svg xmlns=\"http://www.w3.org/2000/svg\" height=\"24px\"viewBox=\"0 0 24 24\"\n",
              "       width=\"24px\">\n",
              "    <path d=\"M0 0h24v24H0V0z\" fill=\"none\"/>\n",
              "    <path d=\"M18.56 5.44l.94 2.06.94-2.06 2.06-.94-2.06-.94-.94-2.06-.94 2.06-2.06.94zm-11 1L8.5 8.5l.94-2.06 2.06-.94-2.06-.94L8.5 2.5l-.94 2.06-2.06.94zm10 10l.94 2.06.94-2.06 2.06-.94-2.06-.94-.94-2.06-.94 2.06-2.06.94z\"/><path d=\"M17.41 7.96l-1.37-1.37c-.4-.4-.92-.59-1.43-.59-.52 0-1.04.2-1.43.59L10.3 9.45l-7.72 7.72c-.78.78-.78 2.05 0 2.83L4 21.41c.39.39.9.59 1.41.59.51 0 1.02-.2 1.41-.59l7.78-7.78 2.81-2.81c.8-.78.8-2.07 0-2.86zM5.41 20L4 18.59l7.72-7.72 1.47 1.35L5.41 20z\"/>\n",
              "  </svg>\n",
              "      </button>\n",
              "      \n",
              "  <style>\n",
              "    .colab-df-container {\n",
              "      display:flex;\n",
              "      flex-wrap:wrap;\n",
              "      gap: 12px;\n",
              "    }\n",
              "\n",
              "    .colab-df-convert {\n",
              "      background-color: #E8F0FE;\n",
              "      border: none;\n",
              "      border-radius: 50%;\n",
              "      cursor: pointer;\n",
              "      display: none;\n",
              "      fill: #1967D2;\n",
              "      height: 32px;\n",
              "      padding: 0 0 0 0;\n",
              "      width: 32px;\n",
              "    }\n",
              "\n",
              "    .colab-df-convert:hover {\n",
              "      background-color: #E2EBFA;\n",
              "      box-shadow: 0px 1px 2px rgba(60, 64, 67, 0.3), 0px 1px 3px 1px rgba(60, 64, 67, 0.15);\n",
              "      fill: #174EA6;\n",
              "    }\n",
              "\n",
              "    [theme=dark] .colab-df-convert {\n",
              "      background-color: #3B4455;\n",
              "      fill: #D2E3FC;\n",
              "    }\n",
              "\n",
              "    [theme=dark] .colab-df-convert:hover {\n",
              "      background-color: #434B5C;\n",
              "      box-shadow: 0px 1px 3px 1px rgba(0, 0, 0, 0.15);\n",
              "      filter: drop-shadow(0px 1px 2px rgba(0, 0, 0, 0.3));\n",
              "      fill: #FFFFFF;\n",
              "    }\n",
              "  </style>\n",
              "\n",
              "      <script>\n",
              "        const buttonEl =\n",
              "          document.querySelector('#df-ecce5a82-463f-4547-a659-d5973f658db7 button.colab-df-convert');\n",
              "        buttonEl.style.display =\n",
              "          google.colab.kernel.accessAllowed ? 'block' : 'none';\n",
              "\n",
              "        async function convertToInteractive(key) {\n",
              "          const element = document.querySelector('#df-ecce5a82-463f-4547-a659-d5973f658db7');\n",
              "          const dataTable =\n",
              "            await google.colab.kernel.invokeFunction('convertToInteractive',\n",
              "                                                     [key], {});\n",
              "          if (!dataTable) return;\n",
              "\n",
              "          const docLinkHtml = 'Like what you see? Visit the ' +\n",
              "            '<a target=\"_blank\" href=https://colab.research.google.com/notebooks/data_table.ipynb>data table notebook</a>'\n",
              "            + ' to learn more about interactive tables.';\n",
              "          element.innerHTML = '';\n",
              "          dataTable['output_type'] = 'display_data';\n",
              "          await google.colab.output.renderOutput(dataTable, element);\n",
              "          const docLink = document.createElement('div');\n",
              "          docLink.innerHTML = docLinkHtml;\n",
              "          element.appendChild(docLink);\n",
              "        }\n",
              "      </script>\n",
              "    </div>\n",
              "  </div>\n",
              "  "
            ]
          },
          "metadata": {},
          "execution_count": 222
        }
      ]
    },
    {
      "cell_type": "code",
      "source": [
        "d1['ierType'].value_counts().head(20)"
      ],
      "metadata": {
        "colab": {
          "base_uri": "https://localhost:8080/"
        },
        "id": "iYMCaQCAZXRS",
        "outputId": "b15864b5-0166-4fc0-beff-56dbc43ffaf5"
      },
      "execution_count": null,
      "outputs": [
        {
          "output_type": "execute_result",
          "data": {
            "text/plain": [
              "Телефонный звонок    1097020\n",
              "                      648822\n",
              "[NULL]                593214\n",
              "[NULL]                 41875\n",
              "СМС                     8516\n",
              "Ручное                  2829\n",
              "Глонасс                  584\n",
              "Name: ierType, dtype: int64"
            ]
          },
          "metadata": {},
          "execution_count": 223
        }
      ]
    },
    {
      "cell_type": "markdown",
      "source": [
        "Большинство обращений поступает через телефонный звонок, через Глонасс меньше всего обращений, стоит обратить внимание на обучение граждан пользованию системой. Пересмотреть нагрузку на операторов колл-центра, возможно существует сложность с дозвоном до операторов гражданами при экстренной ситуации."
      ],
      "metadata": {
        "id": "fmf7JTdFZg1f"
      }
    },
    {
      "cell_type": "code",
      "source": [
        "d1['type'].value_counts().head(20)"
      ],
      "metadata": {
        "colab": {
          "base_uri": "https://localhost:8080/"
        },
        "id": "WdfKrIXiS1MG",
        "outputId": "4c4f7e47-ee37-4b5d-a7cb-862a817aeda0"
      },
      "execution_count": null,
      "outputs": [
        {
          "output_type": "execute_result",
          "data": {
            "text/plain": [
              "Вызов с молчанием                                                                      530163\n",
              "Оказание медицинской помощи                                                            486702\n",
              "Случайный набор номера                                                                 350296\n",
              "Прерывание вызова звонящим сразу после подключения                                     233945\n",
              "Получение справок                                                                      143618\n",
              "Правонарушение                                                                         116339\n",
              "Автоматические ложные вызовы                                                            62884\n",
              "Детские шалости                                                                         57365\n",
              "ДТП                                                                                     52129\n",
              "Неправильное понимание экстренной ситуации                                              44937\n",
              "Психически неуравновешенные люди                                                        27962\n",
              "не задано                                                                               19017\n",
              "Электроснабжение                                                                        17431\n",
              "Водоснабжение                                                                           17320\n",
              "Кража                                                                                   16528\n",
              "Труп                                                                                    16481\n",
              "Неправильный набор номера (ошибочный)                                                   13446\n",
              "Причинение вреда здоровью                                                               12650\n",
              "Семейный конфликт                                                                       10968\n",
              "Помощь населению                                                                         8151\n",
              "Name: type, dtype: int64"
            ]
          },
          "metadata": {},
          "execution_count": 210
        }
      ]
    },
    {
      "cell_type": "markdown",
      "source": [
        "Большинство обращений связано с мед. помощью"
      ],
      "metadata": {
        "id": "kDI7uW8rcNnk"
      }
    },
    {
      "cell_type": "markdown",
      "source": [
        "Много ложных вызовов, думаю нужно вводить чат ботов для снижения нагрузки на операторов и отсечения таких вызовов до операторов, чтобы операторы взаимодействовали только с конкретными случаями."
      ],
      "metadata": {
        "id": "dwPeBXS9abhb"
      }
    },
    {
      "cell_type": "code",
      "source": [
        "# d1.columns = d1.columns.str.replace(' ', '')"
      ],
      "metadata": {
        "id": "q3J-koQjXD9J"
      },
      "execution_count": null,
      "outputs": []
    },
    {
      "cell_type": "markdown",
      "source": [
        "**ДТП**"
      ],
      "metadata": {
        "id": "hXvR2qw9bJfa"
      }
    },
    {
      "cell_type": "code",
      "source": [
        "d3 = d1[(d1['region']=='Волгоград Ворошиловский    ') & (d1['type'] == 'ДТП                                               ')]"
      ],
      "metadata": {
        "id": "C2jCVxJua8C6"
      },
      "execution_count": null,
      "outputs": []
    },
    {
      "cell_type": "code",
      "source": [
        "d3.hist(figsize=(20,10))"
      ],
      "metadata": {
        "colab": {
          "base_uri": "https://localhost:8080/",
          "height": 780
        },
        "id": "9QzW1taWa-cc",
        "outputId": "9d7fdfde-6604-41e9-ed3d-e832654126c6"
      },
      "execution_count": null,
      "outputs": [
        {
          "output_type": "execute_result",
          "data": {
            "text/plain": [
              "array([[<matplotlib.axes._subplots.AxesSubplot object at 0x7f02f8bd6490>,\n",
              "        <matplotlib.axes._subplots.AxesSubplot object at 0x7f02f8b73250>,\n",
              "        <matplotlib.axes._subplots.AxesSubplot object at 0x7f02f8b2f590>],\n",
              "       [<matplotlib.axes._subplots.AxesSubplot object at 0x7f02f8b5ba90>,\n",
              "        <matplotlib.axes._subplots.AxesSubplot object at 0x7f02f8b09f90>,\n",
              "        <matplotlib.axes._subplots.AxesSubplot object at 0x7f02f8abe4d0>],\n",
              "       [<matplotlib.axes._subplots.AxesSubplot object at 0x7f02f8ae9a50>,\n",
              "        <matplotlib.axes._subplots.AxesSubplot object at 0x7f02f8a96e90>,\n",
              "        <matplotlib.axes._subplots.AxesSubplot object at 0x7f02f8a96ed0>]],\n",
              "      dtype=object)"
            ]
          },
          "metadata": {},
          "execution_count": 230
        },
        {
          "output_type": "display_data",
          "data": {
            "text/plain": [
              "<Figure size 1440x720 with 9 Axes>"
            ],
            "image/png": "[encoded data removed]"
          },
          "metadata": {
            "needs_background": "light"
          }
        }
      ]
    },
    {
      "cell_type": "markdown",
      "source": [
        "Тенденция с снижению ДТП. Однако, всплекс в утренние часы, необходимо усились контроль на дорогах в утренние часы."
      ],
      "metadata": {
        "id": "mBTDuMSjbnVQ"
      }
    },
    {
      "cell_type": "markdown",
      "source": [
        "**Правонарушение**"
      ],
      "metadata": {
        "id": "c2bRzUYucD3d"
      }
    },
    {
      "cell_type": "code",
      "source": [
        "d3 = d1[(d1['region']=='Волгоград Ворошиловский    ') & (d1['type'] == 'Правонарушение                                    ')]"
      ],
      "metadata": {
        "id": "6rg8MWq_XEVX"
      },
      "execution_count": null,
      "outputs": []
    },
    {
      "cell_type": "code",
      "source": [
        "d3.hist(figsize=(20,10))"
      ],
      "metadata": {
        "colab": {
          "base_uri": "https://localhost:8080/",
          "height": 780
        },
        "id": "X5WJCEASXEYj",
        "outputId": "3f401ee7-42d0-42b5-db63-fc4ad0e6109b"
      },
      "execution_count": null,
      "outputs": [
        {
          "output_type": "execute_result",
          "data": {
            "text/plain": [
              "array([[<matplotlib.axes._subplots.AxesSubplot object at 0x7f02f89e5d90>,\n",
              "        <matplotlib.axes._subplots.AxesSubplot object at 0x7f02f87be110>,\n",
              "        <matplotlib.axes._subplots.AxesSubplot object at 0x7f02f877a9d0>],\n",
              "       [<matplotlib.axes._subplots.AxesSubplot object at 0x7f02f87a7ed0>,\n",
              "        <matplotlib.axes._subplots.AxesSubplot object at 0x7f02f875d410>,\n",
              "        <matplotlib.axes._subplots.AxesSubplot object at 0x7f02f8707910>],\n",
              "       [<matplotlib.axes._subplots.AxesSubplot object at 0x7f02f86b3e90>,\n",
              "        <matplotlib.axes._subplots.AxesSubplot object at 0x7f02f86e8310>,\n",
              "        <matplotlib.axes._subplots.AxesSubplot object at 0x7f02f86e8350>]],\n",
              "      dtype=object)"
            ]
          },
          "metadata": {},
          "execution_count": 232
        },
        {
          "output_type": "display_data",
          "data": {
            "text/plain": [
              "<Figure size 1440x720 with 9 Axes>"
            ],
            "image/png": "[encoded data removed]"
          },
          "metadata": {
            "needs_background": "light"
          }
        }
      ]
    },
    {
      "cell_type": "markdown",
      "source": [
        "Увеличение правонарушений в 2021 году почти в 2 раза, наблюдаются в январе, мае, ноябре в утреннее и вечернее время, предположение, когда люди едут на работу и возвращаются с работы. Предложение увеличить бдительность и численность оперативных служб это время, училить патрулирование."
      ],
      "metadata": {
        "id": "WgnMGe1vX_LL"
      }
    },
    {
      "cell_type": "markdown",
      "source": [
        "**Оказание медицинской помощи**"
      ],
      "metadata": {
        "id": "pErNJJF0bN68"
      }
    },
    {
      "cell_type": "code",
      "source": [
        "d3 = d1[(d1['region']=='Волгоград Ворошиловский    ') & (d1['type'] == 'Оказание медицинской помощи                       ')]"
      ],
      "metadata": {
        "id": "CGRcPYYcRvWs"
      },
      "execution_count": null,
      "outputs": []
    },
    {
      "cell_type": "code",
      "source": [
        "d1['region'].value_counts()"
      ],
      "metadata": {
        "colab": {
          "base_uri": "https://localhost:8080/"
        },
        "id": "nnIuPqzKTzYY",
        "outputId": "ce43c2ee-5721-4957-9cc3-1c2540f0cb7a"
      },
      "execution_count": null,
      "outputs": [
        {
          "output_type": "execute_result",
          "data": {
            "text/plain": [
              "Волгоград Ворошиловский        883019\n",
              "Волгоград                      468254\n",
              "Волжский                       264569\n",
              "Волгоград Дзержинский           96693\n",
              "Волгоград Красноармейский       87456\n",
              "Камышинский                     83683\n",
              "Волгоград Краснооктябрьский     78197\n",
              "Волгоград Тракторозаводский     73908\n",
              "Волгоград Советский             64575\n",
              "Волгоград Центральный           48991\n",
              "Волгоград Кировский             48625\n",
              "Жирновский                      32254\n",
              "Михайловский                    30080\n",
              "Среднеахтубинский               27708\n",
              "Урюпинский                      23913\n",
              "Калачевский                     19040\n",
              "Городищенский                   17478\n",
              "Фроловский                      15356\n",
              "Серафимовичский                 14535\n",
              "Светлоярский                    14526\n",
              "Name: region, dtype: int64"
            ]
          },
          "metadata": {},
          "execution_count": 209
        }
      ]
    },
    {
      "cell_type": "code",
      "source": [
        "# list(d1['type'])"
      ],
      "metadata": {
        "id": "4uBJ3-QCUbwR"
      },
      "execution_count": null,
      "outputs": []
    },
    {
      "cell_type": "code",
      "source": [
        "# list(d1['region'])"
      ],
      "metadata": {
        "id": "IywRUvcnUGuY"
      },
      "execution_count": null,
      "outputs": []
    },
    {
      "cell_type": "code",
      "source": [
        "d3.hist(figsize=(20,20))"
      ],
      "metadata": {
        "colab": {
          "base_uri": "https://localhost:8080/",
          "height": 1000
        },
        "id": "r0MpqEzVSMCT",
        "outputId": "6f265ca4-01c3-4841-aa1b-31061fda24ee"
      },
      "execution_count": null,
      "outputs": [
        {
          "output_type": "execute_result",
          "data": {
            "text/plain": [
              "array([[<matplotlib.axes._subplots.AxesSubplot object at 0x7f02fa23df10>,\n",
              "        <matplotlib.axes._subplots.AxesSubplot object at 0x7f02fa2cf8d0>,\n",
              "        <matplotlib.axes._subplots.AxesSubplot object at 0x7f02fa17e410>],\n",
              "       [<matplotlib.axes._subplots.AxesSubplot object at 0x7f02fa12b910>,\n",
              "        <matplotlib.axes._subplots.AxesSubplot object at 0x7f02fa156e10>,\n",
              "        <matplotlib.axes._subplots.AxesSubplot object at 0x7f02fa10b350>],\n",
              "       [<matplotlib.axes._subplots.AxesSubplot object at 0x7f02fb6a8b10>,\n",
              "        <matplotlib.axes._subplots.AxesSubplot object at 0x7f02faa13390>,\n",
              "        <matplotlib.axes._subplots.AxesSubplot object at 0x7f02faa138d0>]],\n",
              "      dtype=object)"
            ]
          },
          "metadata": {},
          "execution_count": 208
        },
        {
          "output_type": "display_data",
          "data": {
            "text/plain": [
              "<Figure size 1440x1440 with 9 Axes>"
            ],
            "image/png": "[encoded data removed]"
          },
          "metadata": {
            "needs_background": "light"
          }
        }
      ]
    },
    {
      "cell_type": "markdown",
      "source": [
        "В регионе \"Волгоград Ворошиловский\" большинство обращений граждан в мед. службу происходит в утренее время в понедельник в начале месяца и это в майские праздники. Предложение дополнительном усилении и привлечение сил в эти всплески. напонинать в эти месяца гражданам об необходимости быть внимательными."
      ],
      "metadata": {
        "id": "2Y1_ImTbU4jC"
      }
    },
    {
      "cell_type": "markdown",
      "source": [
        "Так же происходит увеличение обращений граждан ежедогно"
      ],
      "metadata": {
        "id": "Ad4vZvToWYIK"
      }
    },
    {
      "cell_type": "code",
      "source": [
        ""
      ],
      "metadata": {
        "id": "wDcG7VQXSMK8"
      },
      "execution_count": null,
      "outputs": []
    },
    {
      "cell_type": "code",
      "source": [
        ""
      ],
      "metadata": {
        "id": "4oSSkQ0QSMN2"
      },
      "execution_count": null,
      "outputs": []
    },
    {
      "cell_type": "code",
      "source": [
        ""
      ],
      "metadata": {
        "id": "W4-YUB-OSMQ0"
      },
      "execution_count": null,
      "outputs": []
    },
    {
      "cell_type": "markdown",
      "source": [
        "Частота событий по времени"
      ],
      "metadata": {
        "id": "e8CH3PTmVFxy"
      }
    },
    {
      "cell_type": "code",
      "source": [
        "ts = df[['timeIsoStr', 'hrId']].set_index('timeIsoStr').resample('MS').count()\n",
        "ts.head()"
      ],
      "metadata": {
        "colab": {
          "base_uri": "https://localhost:8080/",
          "height": 238
        },
        "id": "ew9vguSGQUsh",
        "outputId": "74029cd1-3588-431f-839c-b79942206ed1"
      },
      "execution_count": null,
      "outputs": [
        {
          "output_type": "execute_result",
          "data": {
            "text/plain": [
              "             hrId\n",
              "timeIsoStr       \n",
              "2019-01-01  86707\n",
              "2019-02-01  20552\n",
              "2019-03-01      0\n",
              "2019-04-01      1\n",
              "2019-05-01  43452"
            ],
            "text/html": [
              "\n",
              "  <div id=\"df-ba9e8f33-6100-4d79-9791-2a8aa4515651\">\n",
              "    <div class=\"colab-df-container\">\n",
              "      <div>\n",
              "<style scoped>\n",
              "    .dataframe tbody tr th:only-of-type {\n",
              "        vertical-align: middle;\n",
              "    }\n",
              "\n",
              "    .dataframe tbody tr th {\n",
              "        vertical-align: top;\n",
              "    }\n",
              "\n",
              "    .dataframe thead th {\n",
              "        text-align: right;\n",
              "    }\n",
              "</style>\n",
              "<table border=\"1\" class=\"dataframe\">\n",
              "  <thead>\n",
              "    <tr style=\"text-align: right;\">\n",
              "      <th></th>\n",
              "      <th>hrId</th>\n",
              "    </tr>\n",
              "    <tr>\n",
              "      <th>timeIsoStr</th>\n",
              "      <th></th>\n",
              "    </tr>\n",
              "  </thead>\n",
              "  <tbody>\n",
              "    <tr>\n",
              "      <th>2019-01-01</th>\n",
              "      <td>86707</td>\n",
              "    </tr>\n",
              "    <tr>\n",
              "      <th>2019-02-01</th>\n",
              "      <td>20552</td>\n",
              "    </tr>\n",
              "    <tr>\n",
              "      <th>2019-03-01</th>\n",
              "      <td>0</td>\n",
              "    </tr>\n",
              "    <tr>\n",
              "      <th>2019-04-01</th>\n",
              "      <td>1</td>\n",
              "    </tr>\n",
              "    <tr>\n",
              "      <th>2019-05-01</th>\n",
              "      <td>43452</td>\n",
              "    </tr>\n",
              "  </tbody>\n",
              "</table>\n",
              "</div>\n",
              "      <button class=\"colab-df-convert\" onclick=\"convertToInteractive('df-ba9e8f33-6100-4d79-9791-2a8aa4515651')\"\n",
              "              title=\"Convert this dataframe to an interactive table.\"\n",
              "              style=\"display:none;\">\n",
              "        \n",
              "  <svg xmlns=\"http://www.w3.org/2000/svg\" height=\"24px\"viewBox=\"0 0 24 24\"\n",
              "       width=\"24px\">\n",
              "    <path d=\"M0 0h24v24H0V0z\" fill=\"none\"/>\n",
              "    <path d=\"M18.56 5.44l.94 2.06.94-2.06 2.06-.94-2.06-.94-.94-2.06-.94 2.06-2.06.94zm-11 1L8.5 8.5l.94-2.06 2.06-.94-2.06-.94L8.5 2.5l-.94 2.06-2.06.94zm10 10l.94 2.06.94-2.06 2.06-.94-2.06-.94-.94-2.06-.94 2.06-2.06.94z\"/><path d=\"M17.41 7.96l-1.37-1.37c-.4-.4-.92-.59-1.43-.59-.52 0-1.04.2-1.43.59L10.3 9.45l-7.72 7.72c-.78.78-.78 2.05 0 2.83L4 21.41c.39.39.9.59 1.41.59.51 0 1.02-.2 1.41-.59l7.78-7.78 2.81-2.81c.8-.78.8-2.07 0-2.86zM5.41 20L4 18.59l7.72-7.72 1.47 1.35L5.41 20z\"/>\n",
              "  </svg>\n",
              "      </button>\n",
              "      \n",
              "  <style>\n",
              "    .colab-df-container {\n",
              "      display:flex;\n",
              "      flex-wrap:wrap;\n",
              "      gap: 12px;\n",
              "    }\n",
              "\n",
              "    .colab-df-convert {\n",
              "      background-color: #E8F0FE;\n",
              "      border: none;\n",
              "      border-radius: 50%;\n",
              "      cursor: pointer;\n",
              "      display: none;\n",
              "      fill: #1967D2;\n",
              "      height: 32px;\n",
              "      padding: 0 0 0 0;\n",
              "      width: 32px;\n",
              "    }\n",
              "\n",
              "    .colab-df-convert:hover {\n",
              "      background-color: #E2EBFA;\n",
              "      box-shadow: 0px 1px 2px rgba(60, 64, 67, 0.3), 0px 1px 3px 1px rgba(60, 64, 67, 0.15);\n",
              "      fill: #174EA6;\n",
              "    }\n",
              "\n",
              "    [theme=dark] .colab-df-convert {\n",
              "      background-color: #3B4455;\n",
              "      fill: #D2E3FC;\n",
              "    }\n",
              "\n",
              "    [theme=dark] .colab-df-convert:hover {\n",
              "      background-color: #434B5C;\n",
              "      box-shadow: 0px 1px 3px 1px rgba(0, 0, 0, 0.15);\n",
              "      filter: drop-shadow(0px 1px 2px rgba(0, 0, 0, 0.3));\n",
              "      fill: #FFFFFF;\n",
              "    }\n",
              "  </style>\n",
              "\n",
              "      <script>\n",
              "        const buttonEl =\n",
              "          document.querySelector('#df-ba9e8f33-6100-4d79-9791-2a8aa4515651 button.colab-df-convert');\n",
              "        buttonEl.style.display =\n",
              "          google.colab.kernel.accessAllowed ? 'block' : 'none';\n",
              "\n",
              "        async function convertToInteractive(key) {\n",
              "          const element = document.querySelector('#df-ba9e8f33-6100-4d79-9791-2a8aa4515651');\n",
              "          const dataTable =\n",
              "            await google.colab.kernel.invokeFunction('convertToInteractive',\n",
              "                                                     [key], {});\n",
              "          if (!dataTable) return;\n",
              "\n",
              "          const docLinkHtml = 'Like what you see? Visit the ' +\n",
              "            '<a target=\"_blank\" href=https://colab.research.google.com/notebooks/data_table.ipynb>data table notebook</a>'\n",
              "            + ' to learn more about interactive tables.';\n",
              "          element.innerHTML = '';\n",
              "          dataTable['output_type'] = 'display_data';\n",
              "          await google.colab.output.renderOutput(dataTable, element);\n",
              "          const docLink = document.createElement('div');\n",
              "          docLink.innerHTML = docLinkHtml;\n",
              "          element.appendChild(docLink);\n",
              "        }\n",
              "      </script>\n",
              "    </div>\n",
              "  </div>\n",
              "  "
            ]
          },
          "metadata": {},
          "execution_count": 149
        }
      ]
    },
    {
      "cell_type": "code",
      "source": [
        "ts.plot()"
      ],
      "metadata": {
        "colab": {
          "base_uri": "https://localhost:8080/",
          "height": 308
        },
        "id": "XALn0tfdQjFB",
        "outputId": "6e09d331-c8c2-40ef-85af-afcc257bfdee"
      },
      "execution_count": null,
      "outputs": [
        {
          "output_type": "execute_result",
          "data": {
            "text/plain": [
              "<matplotlib.axes._subplots.AxesSubplot at 0x7f02f5931cd0>"
            ]
          },
          "metadata": {},
          "execution_count": 150
        },
        {
          "output_type": "display_data",
          "data": {
            "text/plain": [
              "<Figure size 432x288 with 1 Axes>"
            ],
            "image/png": "[encoded data removed]"
          },
          "metadata": {
            "needs_background": "light"
          }
        }
      ]
    },
    {
      "cell_type": "markdown",
      "source": [
        "Нет наблюдений с марта 2019 по апрель 2019 а также мало наблюдений за декабрь 2020"
      ],
      "metadata": {
        "id": "K8cxYQVFLCD5"
      }
    },
    {
      "cell_type": "markdown",
      "source": [
        "# Анализ"
      ],
      "metadata": {
        "id": "ZWtp1uaBW2C4"
      }
    },
    {
      "cell_type": "code",
      "source": [
        "df.info()"
      ],
      "metadata": {
        "colab": {
          "base_uri": "https://localhost:8080/"
        },
        "id": "PyBOaG_VTlYd",
        "outputId": "f43b1238-59ae-4041-8ae2-2bc50c19e664"
      },
      "execution_count": null,
      "outputs": [
        {
          "output_type": "stream",
          "name": "stdout",
          "text": [
            "<class 'pandas.core.frame.DataFrame'>\n",
            "RangeIndex: 2517867 entries, 0 to 2517866\n",
            "Data columns (total 28 columns):\n",
            " #   Column            Dtype         \n",
            "---  ------            -----         \n",
            " 0   hrId              object        \n",
            " 1   type              object        \n",
            " 2   ierId             object        \n",
            " 3   point             object        \n",
            " 4   state             object        \n",
            " 5   action            object        \n",
            " 6   cardId            object        \n",
            " 7   region            object        \n",
            " 8   ierType           object        \n",
            " 9   cityCode          object        \n",
            " 10  regionId          object        \n",
            " 11  cityFiasId        object        \n",
            " 12  membership        object        \n",
            " 13  streetCode        object        \n",
            " 14  timeIsoStr        datetime64[ns]\n",
            " 15  isChemFlood       object        \n",
            " 16  dispatchesId      object        \n",
            " 17  districtCode      object        \n",
            " 18  streetFiasId      object        \n",
            " 19  clarification     object        \n",
            " 20  assignTimeIsoStr  object        \n",
            " 21  month             int64         \n",
            " 22  year              int64         \n",
            " 23  weekday           int64         \n",
            " 24  day               int64         \n",
            " 25  hour              int64         \n",
            " 26  Тип_обращения     int16         \n",
            " 27  Статус_обращения  int8          \n",
            "dtypes: datetime64[ns](1), int16(1), int64(5), int8(1), object(20)\n",
            "memory usage: 506.7+ MB\n"
          ]
        }
      ]
    },
    {
      "cell_type": "code",
      "source": [
        "df.columns"
      ],
      "metadata": {
        "colab": {
          "base_uri": "https://localhost:8080/"
        },
        "id": "nw1Y6b0BYPTA",
        "outputId": "4bf4386a-e3d4-415a-a739-3140dae915c1"
      },
      "execution_count": null,
      "outputs": [
        {
          "output_type": "execute_result",
          "data": {
            "text/plain": [
              "Index(['hrId', 'type', 'ierId', 'point', 'state', 'action', 'cardId', 'region',\n",
              "       'ierType', 'cityCode', 'regionId', 'cityFiasId', 'membership',\n",
              "       'streetCode', 'timeIsoStr', 'isChemFlood', 'dispatchesId',\n",
              "       'districtCode', 'streetFiasId', 'clarification', 'assignTimeIsoStr',\n",
              "       'month', 'year', 'weekday', 'day', 'hour', 'Тип_обращения',\n",
              "       'Статус_обращения'],\n",
              "      dtype='object')"
            ]
          },
          "metadata": {},
          "execution_count": 152
        }
      ]
    },
    {
      "cell_type": "code",
      "source": [
        "df.head(3)"
      ],
      "metadata": {
        "colab": {
          "base_uri": "https://localhost:8080/",
          "height": 416
        },
        "id": "0Rms8t_aD84w",
        "outputId": "08c415c8-2ef2-4468-adc3-c4133050825f"
      },
      "execution_count": null,
      "outputs": [
        {
          "output_type": "execute_result",
          "data": {
            "text/plain": [
              "                   hrId                                               type  \\\n",
              "0  авг11_СлучНабор_213   Случайный набор номера                        ...   \n",
              "1  авг15_СлучНабор_122   Случайный набор номера                        ...   \n",
              "2  авг09_Молчание_150    Вызов с молчанием                             ...   \n",
              "\n",
              "                                  ierId  \\\n",
              "0  d0cacbea-1791-4d46-9b4f-ad81009eb164   \n",
              "1  c3b8c2c3-6419-4b88-bfbb-ad85009a733f   \n",
              "2  f3be67f9-83e9-4888-910a-ad7f009ae335   \n",
              "\n",
              "                                               point  \\\n",
              "0  [{\"lat\": 48.8031, \"lon\": 44.7532}]            ...   \n",
              "1  [{\"lat\": 48.7414, \"lon\": 44.5453}]            ...   \n",
              "2  [{\"lat\": 48.8061, \"lon\": 44.7559}]            ...   \n",
              "\n",
              "                        state  \\\n",
              "0  Карточка закрыта             \n",
              "1  Карточка закрыта             \n",
              "2  Карточка закрыта             \n",
              "\n",
              "                                              action  \\\n",
              "0  [NULL]                                        ...   \n",
              "1  [NULL]                                        ...   \n",
              "2  [NULL]                                        ...   \n",
              "\n",
              "                                 cardId                       region  \\\n",
              "0  0c9bcba0-de53-4942-83f2-ad81009ee057  Волгоград Ворошиловский       \n",
              "1  963f0751-961a-4761-b205-ad85009a7f89  Волгоград Ворошиловский       \n",
              "2  d404c079-19a0-4a9c-8ca2-ad7f009af53e  Волгоград Ворошиловский       \n",
              "\n",
              "             ierType     cityCode regionId  \\\n",
              "0  Телефонный звонок  [NULL]            10   \n",
              "1  Телефонный звонок  [NULL]            10   \n",
              "2  Телефонный звонок  [NULL]            10   \n",
              "\n",
              "                             cityFiasId  \\\n",
              "0  [NULL]                                 \n",
              "1  [NULL]                                 \n",
              "2  [NULL]                                 \n",
              "\n",
              "                                          membership       streetCode  \\\n",
              "0                                                ...  [NULL]            \n",
              "1                                                ...  [NULL]            \n",
              "2                                                ...  [NULL]            \n",
              "\n",
              "           timeIsoStr  isChemFlood  \\\n",
              "0 2021-08-11 09:38:27  false         \n",
              "1 2021-08-15 09:22:30  false         \n",
              "2 2021-08-09 09:24:11  false         \n",
              "\n",
              "                                        dispatchesId  districtCode  \\\n",
              "0  [NULL]                                        ...  [NULL]         \n",
              "1  [NULL]                                        ...  [NULL]         \n",
              "2  [NULL]                                        ...  [NULL]         \n",
              "\n",
              "                           streetFiasId                      clarification  \\\n",
              "0  [NULL]                                [NULL]                              \n",
              "1  [NULL]                                [NULL]                              \n",
              "2  [NULL]                                [NULL]                              \n",
              "\n",
              "    assignTimeIsoStr  month  year  weekday  day  hour  Тип_обращения  \\\n",
              "0                         8  2021        2   11     9            418   \n",
              "1                         8  2021        6   15     9            418   \n",
              "2                         8  2021        0    9     9             99   \n",
              "\n",
              "   Статус_обращения  \n",
              "0                 3  \n",
              "1                 3  \n",
              "2                 3  "
            ],
            "text/html": [
              "\n",
              "  <div id=\"df-cb3a6304-ba22-403d-b432-8fc3369a2f5c\">\n",
              "    <div class=\"colab-df-container\">\n",
              "      <div>\n",
              "<style scoped>\n",
              "    .dataframe tbody tr th:only-of-type {\n",
              "        vertical-align: middle;\n",
              "    }\n",
              "\n",
              "    .dataframe tbody tr th {\n",
              "        vertical-align: top;\n",
              "    }\n",
              "\n",
              "    .dataframe thead th {\n",
              "        text-align: right;\n",
              "    }\n",
              "</style>\n",
              "<table border=\"1\" class=\"dataframe\">\n",
              "  <thead>\n",
              "    <tr style=\"text-align: right;\">\n",
              "      <th></th>\n",
              "      <th>hrId</th>\n",
              "      <th>type</th>\n",
              "      <th>ierId</th>\n",
              "      <th>point</th>\n",
              "      <th>state</th>\n",
              "      <th>action</th>\n",
              "      <th>cardId</th>\n",
              "      <th>region</th>\n",
              "      <th>ierType</th>\n",
              "      <th>cityCode</th>\n",
              "      <th>regionId</th>\n",
              "      <th>cityFiasId</th>\n",
              "      <th>membership</th>\n",
              "      <th>streetCode</th>\n",
              "      <th>timeIsoStr</th>\n",
              "      <th>isChemFlood</th>\n",
              "      <th>dispatchesId</th>\n",
              "      <th>districtCode</th>\n",
              "      <th>streetFiasId</th>\n",
              "      <th>clarification</th>\n",
              "      <th>assignTimeIsoStr</th>\n",
              "      <th>month</th>\n",
              "      <th>year</th>\n",
              "      <th>weekday</th>\n",
              "      <th>day</th>\n",
              "      <th>hour</th>\n",
              "      <th>Тип_обращения</th>\n",
              "      <th>Статус_обращения</th>\n",
              "    </tr>\n",
              "  </thead>\n",
              "  <tbody>\n",
              "    <tr>\n",
              "      <th>0</th>\n",
              "      <td>авг11_СлучНабор_213</td>\n",
              "      <td>Случайный набор номера                        ...</td>\n",
              "      <td>d0cacbea-1791-4d46-9b4f-ad81009eb164</td>\n",
              "      <td>[{\"lat\": 48.8031, \"lon\": 44.7532}]            ...</td>\n",
              "      <td>Карточка закрыта</td>\n",
              "      <td>[NULL]                                        ...</td>\n",
              "      <td>0c9bcba0-de53-4942-83f2-ad81009ee057</td>\n",
              "      <td>Волгоград Ворошиловский</td>\n",
              "      <td>Телефонный звонок</td>\n",
              "      <td>[NULL]</td>\n",
              "      <td>10</td>\n",
              "      <td>[NULL]</td>\n",
              "      <td>...</td>\n",
              "      <td>[NULL]</td>\n",
              "      <td>2021-08-11 09:38:27</td>\n",
              "      <td>false</td>\n",
              "      <td>[NULL]                                        ...</td>\n",
              "      <td>[NULL]</td>\n",
              "      <td>[NULL]</td>\n",
              "      <td>[NULL]</td>\n",
              "      <td></td>\n",
              "      <td>8</td>\n",
              "      <td>2021</td>\n",
              "      <td>2</td>\n",
              "      <td>11</td>\n",
              "      <td>9</td>\n",
              "      <td>418</td>\n",
              "      <td>3</td>\n",
              "    </tr>\n",
              "    <tr>\n",
              "      <th>1</th>\n",
              "      <td>авг15_СлучНабор_122</td>\n",
              "      <td>Случайный набор номера                        ...</td>\n",
              "      <td>c3b8c2c3-6419-4b88-bfbb-ad85009a733f</td>\n",
              "      <td>[{\"lat\": 48.7414, \"lon\": 44.5453}]            ...</td>\n",
              "      <td>Карточка закрыта</td>\n",
              "      <td>[NULL]                                        ...</td>\n",
              "      <td>963f0751-961a-4761-b205-ad85009a7f89</td>\n",
              "      <td>Волгоград Ворошиловский</td>\n",
              "      <td>Телефонный звонок</td>\n",
              "      <td>[NULL]</td>\n",
              "      <td>10</td>\n",
              "      <td>[NULL]</td>\n",
              "      <td>...</td>\n",
              "      <td>[NULL]</td>\n",
              "      <td>2021-08-15 09:22:30</td>\n",
              "      <td>false</td>\n",
              "      <td>[NULL]                                        ...</td>\n",
              "      <td>[NULL]</td>\n",
              "      <td>[NULL]</td>\n",
              "      <td>[NULL]</td>\n",
              "      <td></td>\n",
              "      <td>8</td>\n",
              "      <td>2021</td>\n",
              "      <td>6</td>\n",
              "      <td>15</td>\n",
              "      <td>9</td>\n",
              "      <td>418</td>\n",
              "      <td>3</td>\n",
              "    </tr>\n",
              "    <tr>\n",
              "      <th>2</th>\n",
              "      <td>авг09_Молчание_150</td>\n",
              "      <td>Вызов с молчанием                             ...</td>\n",
              "      <td>f3be67f9-83e9-4888-910a-ad7f009ae335</td>\n",
              "      <td>[{\"lat\": 48.8061, \"lon\": 44.7559}]            ...</td>\n",
              "      <td>Карточка закрыта</td>\n",
              "      <td>[NULL]                                        ...</td>\n",
              "      <td>d404c079-19a0-4a9c-8ca2-ad7f009af53e</td>\n",
              "      <td>Волгоград Ворошиловский</td>\n",
              "      <td>Телефонный звонок</td>\n",
              "      <td>[NULL]</td>\n",
              "      <td>10</td>\n",
              "      <td>[NULL]</td>\n",
              "      <td>...</td>\n",
              "      <td>[NULL]</td>\n",
              "      <td>2021-08-09 09:24:11</td>\n",
              "      <td>false</td>\n",
              "      <td>[NULL]                                        ...</td>\n",
              "      <td>[NULL]</td>\n",
              "      <td>[NULL]</td>\n",
              "      <td>[NULL]</td>\n",
              "      <td></td>\n",
              "      <td>8</td>\n",
              "      <td>2021</td>\n",
              "      <td>0</td>\n",
              "      <td>9</td>\n",
              "      <td>9</td>\n",
              "      <td>99</td>\n",
              "      <td>3</td>\n",
              "    </tr>\n",
              "  </tbody>\n",
              "</table>\n",
              "</div>\n",
              "      <button class=\"colab-df-convert\" onclick=\"convertToInteractive('df-cb3a6304-ba22-403d-b432-8fc3369a2f5c')\"\n",
              "              title=\"Convert this dataframe to an interactive table.\"\n",
              "              style=\"display:none;\">\n",
              "        \n",
              "  <svg xmlns=\"http://www.w3.org/2000/svg\" height=\"24px\"viewBox=\"0 0 24 24\"\n",
              "       width=\"24px\">\n",
              "    <path d=\"M0 0h24v24H0V0z\" fill=\"none\"/>\n",
              "    <path d=\"M18.56 5.44l.94 2.06.94-2.06 2.06-.94-2.06-.94-.94-2.06-.94 2.06-2.06.94zm-11 1L8.5 8.5l.94-2.06 2.06-.94-2.06-.94L8.5 2.5l-.94 2.06-2.06.94zm10 10l.94 2.06.94-2.06 2.06-.94-2.06-.94-.94-2.06-.94 2.06-2.06.94z\"/><path d=\"M17.41 7.96l-1.37-1.37c-.4-.4-.92-.59-1.43-.59-.52 0-1.04.2-1.43.59L10.3 9.45l-7.72 7.72c-.78.78-.78 2.05 0 2.83L4 21.41c.39.39.9.59 1.41.59.51 0 1.02-.2 1.41-.59l7.78-7.78 2.81-2.81c.8-.78.8-2.07 0-2.86zM5.41 20L4 18.59l7.72-7.72 1.47 1.35L5.41 20z\"/>\n",
              "  </svg>\n",
              "      </button>\n",
              "      \n",
              "  <style>\n",
              "    .colab-df-container {\n",
              "      display:flex;\n",
              "      flex-wrap:wrap;\n",
              "      gap: 12px;\n",
              "    }\n",
              "\n",
              "    .colab-df-convert {\n",
              "      background-color: #E8F0FE;\n",
              "      border: none;\n",
              "      border-radius: 50%;\n",
              "      cursor: pointer;\n",
              "      display: none;\n",
              "      fill: #1967D2;\n",
              "      height: 32px;\n",
              "      padding: 0 0 0 0;\n",
              "      width: 32px;\n",
              "    }\n",
              "\n",
              "    .colab-df-convert:hover {\n",
              "      background-color: #E2EBFA;\n",
              "      box-shadow: 0px 1px 2px rgba(60, 64, 67, 0.3), 0px 1px 3px 1px rgba(60, 64, 67, 0.15);\n",
              "      fill: #174EA6;\n",
              "    }\n",
              "\n",
              "    [theme=dark] .colab-df-convert {\n",
              "      background-color: #3B4455;\n",
              "      fill: #D2E3FC;\n",
              "    }\n",
              "\n",
              "    [theme=dark] .colab-df-convert:hover {\n",
              "      background-color: #434B5C;\n",
              "      box-shadow: 0px 1px 3px 1px rgba(0, 0, 0, 0.15);\n",
              "      filter: drop-shadow(0px 1px 2px rgba(0, 0, 0, 0.3));\n",
              "      fill: #FFFFFF;\n",
              "    }\n",
              "  </style>\n",
              "\n",
              "      <script>\n",
              "        const buttonEl =\n",
              "          document.querySelector('#df-cb3a6304-ba22-403d-b432-8fc3369a2f5c button.colab-df-convert');\n",
              "        buttonEl.style.display =\n",
              "          google.colab.kernel.accessAllowed ? 'block' : 'none';\n",
              "\n",
              "        async function convertToInteractive(key) {\n",
              "          const element = document.querySelector('#df-cb3a6304-ba22-403d-b432-8fc3369a2f5c');\n",
              "          const dataTable =\n",
              "            await google.colab.kernel.invokeFunction('convertToInteractive',\n",
              "                                                     [key], {});\n",
              "          if (!dataTable) return;\n",
              "\n",
              "          const docLinkHtml = 'Like what you see? Visit the ' +\n",
              "            '<a target=\"_blank\" href=https://colab.research.google.com/notebooks/data_table.ipynb>data table notebook</a>'\n",
              "            + ' to learn more about interactive tables.';\n",
              "          element.innerHTML = '';\n",
              "          dataTable['output_type'] = 'display_data';\n",
              "          await google.colab.output.renderOutput(dataTable, element);\n",
              "          const docLink = document.createElement('div');\n",
              "          docLink.innerHTML = docLinkHtml;\n",
              "          element.appendChild(docLink);\n",
              "        }\n",
              "      </script>\n",
              "    </div>\n",
              "  </div>\n",
              "  "
            ]
          },
          "metadata": {},
          "execution_count": 160
        }
      ]
    },
    {
      "cell_type": "code",
      "source": [
        "d1 = df[df['point']=='[{\"lat\": 48.707103, \"lon\": 44.516939}]']\n",
        "d1.type.value_counts()"
      ],
      "metadata": {
        "colab": {
          "base_uri": "https://localhost:8080/"
        },
        "id": "wfaaWOXwEVW3",
        "outputId": "fbbe1adb-39c8-4f5f-f19f-eb909783a841"
      },
      "execution_count": null,
      "outputs": [
        {
          "output_type": "execute_result",
          "data": {
            "text/plain": [
              "Series([], Name: type, dtype: int64)"
            ]
          },
          "metadata": {},
          "execution_count": 165
        }
      ]
    },
    {
      "cell_type": "code",
      "source": [
        "df.isChemFlood.value_counts()"
      ],
      "metadata": {
        "colab": {
          "base_uri": "https://localhost:8080/"
        },
        "id": "WoqmQMo1Ye_1",
        "outputId": "7e9fd15a-c690-4205-afa6-3e47f00f457f"
      },
      "execution_count": null,
      "outputs": [
        {
          "output_type": "execute_result",
          "data": {
            "text/plain": [
              "false                                                                                                                                                                                                                                                                                                                                                                                                                                                                                                                                                                                                                                                                                                                                                                                                                                                                                                                                                                                                                                                                                                                                                                                                                                                                     2517842\n",
              ".� ��/���������ː�?�{�g�/��ǂ�7���U�U���U@�^���]�`u����<UV������u\\jUUUU*�U�����U��                                                                                                                                                                                                                                                                                                                                                                                                                                                                                                                                                                                                                                                                                                                                                                                                                                                                                                                                                                                                                                                                                                                                                                                                3\n",
              "₽} это¶}¶}¶¶€×}₽¶                                                                                                                                                                                                                                                                                                                                                                                                                                                                                                                                                                                                                                                                                                                                                                                                                                                                                                                                                                                                                                                                                                                                                                                                                                                               3\n",
              " 10 Feb, 2021Current location:http://maps.google.com/?q=48.7107181,44.5064117Location last updated at:12:13                                                                                                                                                                                                                                                                                                                                                                                                                                                                                                                                                                                                                                                                                                                                                                                                                                                                                                                                                                                                                                                                                                                                                                     2\n",
              " 34x100 см академия, наволочка, наволочка из японского аниме «Моя HeroTodoroki Dakimakura», постельное бельеhttps://a.aliexpress.com/_9HRIrp                                                                                                                                                                                                                                                                                                                                                                                                                                                                                                                                                                                                                                                                                                                                                                                                                                                                                                                                                                                                                                                                                                                                    2\n",
              " 01 сент., 2020Текущее местоположение:Мариупольская ул., 10, Волгоград, Волгоградская обл., Россия, 400002, Волгоградhttps://maps.google.com/?q=48.6711205,44.449305Геоданные обновлены:19:38                                                                                                                                                                                                                                                                                                                                                                                                                                                                                                                                                                                                                                                                                                                                                                                                                                                                                                                                                                                                                                                                                   2\n",
              "Y Е 840 РЕ 134, Ниссан М 535 МХ 34.                                                                                                                                                                                                                                                                                                                                                                                                                                                                                                                                                                                                                                                                                                                                                                                                                                                                                                                                                                                                                                                                                                                                                                                                                                             1\n",
              " REMIX\" на YouTubehttps://youtu.be/999tf5-ONGw                                                                                                                                                                                                                                                                                                                                                                                                                                                                                                                                                                                                                                                                                                                                                                                                                                                                                                                                                                                                                                                                                                                                                                                                                                  1\n",
              "104, слабость, головокружение. Температура в норме. Выездов, контактов не было. Вызывает себе.                                                                                                                                                                                                                                                                                                                                                                                                                                                                                                                                                                                                                                                                                                                                                                                                                                                                                                                                                                                                                                                                                                                                                                                  1\n",
              "0                                                                                                                                                                                                                                                                                                                                                                                                                                                                                                                                                                                                                                                                                                                                                                                                                                                                                                                                                                                                                                                                                                                                                                                                                                                                               1\n",
              " 17 сент., 2020Текущее местоположение:Мариупольская ул., 10, Волгоград, Волгоградская обл., Россия, 400002, Волгоградhttps://maps.google.com/?q=48.6710802,44.449333Геоданные обновлены:20:21                                                                                                                                                                                                                                                                                                                                                                                                                                                                                                                                                                                                                                                                                                                                                                                                                                                                                                                                                                                                                                                                                   1\n",
              " 07 нояб., 2_missed_part_.4493408Геоданные обновлены:08:29                                                                                                                                                                                                                                                                                                                                                                                                                                                                                                                                                                                                                                                                                                                                                                                                                                                                                                                                                                                                                                                                                                                                                                                                                      1\n",
              "                                                                                                                                                                                                                                                                                                                                                                                                                                                                                                                                                                                                                                                                                                                                                                                                                                                                                                                                                                                                                                                                                                                                                                                                                                                                                1\n",
              "₪😞м. ЗубЮрГфа х😉 xxx I aбююю юъбщ Юлю ю..ббююбббююббг Юлю ю                                                                                                                                                                                                                                                                                                                                                                                                                                                                                                                                                                                                                                                                                                                                                                                                                                                                                                                                                                                                                                                                                                                                                                                                                     1\n",
              " 25 Sep, 2019Current location:Ulitsa Kim, 18а, Volgograd, Volgogradskaya oblast', Russia, 400001, Volgogradhttp://maps.google.com/?q=48.6995669,44.5010244Location last updated at:22:17                                                                                                                                                                                                                                                                                                                                                                                                                                                                                                                                                                                                                                                                                                                                                                                                                                                                                                                                                                                                                                                                                        1\n",
              "Name: isChemFlood, dtype: int64"
            ]
          },
          "metadata": {},
          "execution_count": 154
        }
      ]
    },
    {
      "cell_type": "code",
      "source": [
        "df.membership.value_counts()"
      ],
      "metadata": {
        "colab": {
          "base_uri": "https://localhost:8080/"
        },
        "id": "Gg32VnOeYFBR",
        "outputId": "5d04f0be-4158-4943-b014-8b92aa0f6de9"
      },
      "execution_count": null,
      "outputs": [
        {
          "output_type": "execute_result",
          "data": {
            "text/plain": [
              "                                                                                                                                                                                                                      233903\n",
              "                                                                                                                                                                                                                      181753\n",
              "                                                                                                                                                                                                                       99637\n",
              "                                                                                                                                                                                                                       89188\n",
              "                                                                                                                                                                                                                       83853\n",
              "                                                                                                                                                                                                                       ...  \n",
              "Пожарные: Расчет №1, Полиция: Патруль №1, Скорая: Бригада №1                                                                                                                                                               1\n",
              "Пожарные: ПЧ №6 Красноармейский р-н, Полиция: ОП №8 Красноармейский р-н, Скорая: Подстанция Красноармейский р-н, ЖКХ: Бригада №1, ЕДДС: ОД, ЕДДС: Диспетчер                                                                1\n",
              "Полиция: ОП №3 Дзержинский р-н, ЕДДС: ОД                                                                                                                                                                                   1\n",
              "Полиция: Патруль №1, ЕДДС: Диспетчер¶, ЕДДС: Диспетчер                                                                                                                                                                     1\n",
              "Скорая: Бригада №1, Полиция: Патруль №2, ЕДДС: Диспетчер, Пожарные: Расчет №1                                                                                                                                              1\n",
              "Name: membership, Length: 23987, dtype: int64"
            ]
          },
          "metadata": {},
          "execution_count": 155
        }
      ]
    },
    {
      "cell_type": "code",
      "source": [
        "df.region.value_counts()"
      ],
      "metadata": {
        "colab": {
          "base_uri": "https://localhost:8080/"
        },
        "id": "V5W3VqDLX9Tf",
        "outputId": "59f054bd-dfe3-4e65-e73f-13eed6810c1f"
      },
      "execution_count": null,
      "outputs": [
        {
          "output_type": "execute_result",
          "data": {
            "text/plain": [
              "Волгоград Ворошиловский        883019\n",
              "Волгоград                      468254\n",
              "Волжский                       264569\n",
              "Волгоград Дзержинский           96693\n",
              "Волгоград Красноармейский       87456\n",
              "Камышинский                     83683\n",
              "Волгоград Краснооктябрьский     78197\n",
              "Волгоград Тракторозаводский     73908\n",
              "Волгоград Советский             64575\n",
              "Волгоград Центральный           48991\n",
              "Волгоград Кировский             48625\n",
              "Жирновский                      32254\n",
              "Михайловский                    30080\n",
              "Среднеахтубинский               27708\n",
              "Урюпинский                      23913\n",
              "Калачевский                     19040\n",
              "Городищенский                   17478\n",
              "Фроловский                      15356\n",
              "Серафимовичский                 14535\n",
              "Светлоярский                    14526\n",
              "Котовский                       14025\n",
              "Ленинский                       11662\n",
              "Иловлинский                      9663\n",
              "Дубовский                        9046\n",
              "Еланский                         8809\n",
              "Суровикинский                    8789\n",
              "Котельниковский                  7588\n",
              "Новоаннинский                    6780\n",
              "Николаевский                     5272\n",
              "Палласовский                     5098\n",
              "Новониколаевский                 4424\n",
              "Даниловский                      4346\n",
              "Быковский                        3804\n",
              "Руднянский                       3214\n",
              "Кумылженский                     2957\n",
              "Октябрьский                      2949\n",
              "Киквидзенский                    2765\n",
              "Алексеевский                     2744\n",
              "Чернышковский                    2738\n",
              "Ольховский                       2565\n",
              "Старополтавский                  2324\n",
              "Клетский                         1876\n",
              "Нехаевский                       1541\n",
              "не задано                          19\n",
              "Саратов                             5\n",
              "Воронеж                             2\n",
              "Ровенский                           1\n",
              "Саратов Кировский                   1\n",
              "Name: region, dtype: int64"
            ]
          },
          "metadata": {},
          "execution_count": 156
        }
      ]
    },
    {
      "cell_type": "code",
      "source": [
        "df.action.value_counts()"
      ],
      "metadata": {
        "colab": {
          "base_uri": "https://localhost:8080/"
        },
        "id": "SZacLcIhXZgh",
        "outputId": "2541432f-0dcf-48c7-d97b-c907fb14a399"
      },
      "execution_count": null,
      "outputs": [
        {
          "output_type": "execute_result",
          "data": {
            "text/plain": [
              "                                                                                                                                                                                                                                                                                                                                                    675847\n",
              "[NULL]                                                                                                                                                                                                                                                                                                                                              624413\n",
              "[NULL]                                                                                                                                                                                                                                                                                                                                              110691\n",
              "[NULL]                                                                                                                                                                                                                                                                                                                                              107222\n",
              "[NULL]                                                                                                                                                                                                                                                                                                                                              100500\n",
              "                                                                                                                                                                                                                                                                                                                                                     ...  \n",
              "Уведомление, Выезд, Прибытие, Решение, Выезд, Прибытие, Решение, Уведомление, Уведомление, Уведомление                                                                                                                                                                                                                                                   1\n",
              "Уведомление, Выезд, Прибытие, Решение, Уведомление, Выезд, Прибытие, Решение, Уведомление, Уведомление, Уведомление                                                                                                                                                                                                                                      1\n",
              "Решение, Выезд, Прибытие, Уведомление                                                                                                                                                                                                                                                                                                                    1\n",
              "Отменено, Уведомление, Выезд, Прибытие, Уведомление                                                                                                                                                                                                                                                                                                      1\n",
              "Решение, Выезд, Уведомление, Выезд, Уведомление                                                                                                                                                                                                                                                                                                          1\n",
              "Name: action, Length: 7531, dtype: int64"
            ]
          },
          "metadata": {},
          "execution_count": 157
        }
      ]
    },
    {
      "cell_type": "code",
      "source": [
        "df.head(3)"
      ],
      "metadata": {
        "colab": {
          "base_uri": "https://localhost:8080/",
          "height": 416
        },
        "id": "z1ciZwvsflrg",
        "outputId": "6d9800e4-a367-48bc-9422-7528ddaed08e"
      },
      "execution_count": null,
      "outputs": [
        {
          "output_type": "execute_result",
          "data": {
            "text/plain": [
              "                   hrId                                               type  \\\n",
              "0  авг11_СлучНабор_213   Случайный набор номера                        ...   \n",
              "1  авг15_СлучНабор_122   Случайный набор номера                        ...   \n",
              "2  авг09_Молчание_150    Вызов с молчанием                             ...   \n",
              "\n",
              "                                  ierId  \\\n",
              "0  d0cacbea-1791-4d46-9b4f-ad81009eb164   \n",
              "1  c3b8c2c3-6419-4b88-bfbb-ad85009a733f   \n",
              "2  f3be67f9-83e9-4888-910a-ad7f009ae335   \n",
              "\n",
              "                                               point  \\\n",
              "0  [{\"lat\": 48.8031, \"lon\": 44.7532}]            ...   \n",
              "1  [{\"lat\": 48.7414, \"lon\": 44.5453}]            ...   \n",
              "2  [{\"lat\": 48.8061, \"lon\": 44.7559}]            ...   \n",
              "\n",
              "                        state  \\\n",
              "0  Карточка закрыта             \n",
              "1  Карточка закрыта             \n",
              "2  Карточка закрыта             \n",
              "\n",
              "                                              action  \\\n",
              "0  [NULL]                                        ...   \n",
              "1  [NULL]                                        ...   \n",
              "2  [NULL]                                        ...   \n",
              "\n",
              "                                 cardId                       region  \\\n",
              "0  0c9bcba0-de53-4942-83f2-ad81009ee057  Волгоград Ворошиловский       \n",
              "1  963f0751-961a-4761-b205-ad85009a7f89  Волгоград Ворошиловский       \n",
              "2  d404c079-19a0-4a9c-8ca2-ad7f009af53e  Волгоград Ворошиловский       \n",
              "\n",
              "             ierType     cityCode regionId  \\\n",
              "0  Телефонный звонок  [NULL]            10   \n",
              "1  Телефонный звонок  [NULL]            10   \n",
              "2  Телефонный звонок  [NULL]            10   \n",
              "\n",
              "                             cityFiasId  \\\n",
              "0  [NULL]                                 \n",
              "1  [NULL]                                 \n",
              "2  [NULL]                                 \n",
              "\n",
              "                                          membership       streetCode  \\\n",
              "0                                                ...  [NULL]            \n",
              "1                                                ...  [NULL]            \n",
              "2                                                ...  [NULL]            \n",
              "\n",
              "           timeIsoStr  isChemFlood  \\\n",
              "0 2021-08-11 09:38:27  false         \n",
              "1 2021-08-15 09:22:30  false         \n",
              "2 2021-08-09 09:24:11  false         \n",
              "\n",
              "                                        dispatchesId  districtCode  \\\n",
              "0  [NULL]                                        ...  [NULL]         \n",
              "1  [NULL]                                        ...  [NULL]         \n",
              "2  [NULL]                                        ...  [NULL]         \n",
              "\n",
              "                           streetFiasId                      clarification  \\\n",
              "0  [NULL]                                [NULL]                              \n",
              "1  [NULL]                                [NULL]                              \n",
              "2  [NULL]                                [NULL]                              \n",
              "\n",
              "    assignTimeIsoStr  month  year  weekday  day  hour  Тип_обращения  \\\n",
              "0                         8  2021        2   11     9            418   \n",
              "1                         8  2021        6   15     9            418   \n",
              "2                         8  2021        0    9     9             99   \n",
              "\n",
              "   Статус_обращения  \n",
              "0                 3  \n",
              "1                 3  \n",
              "2                 3  "
            ],
            "text/html": [
              "\n",
              "  <div id=\"df-3260d694-86e5-4ba2-be06-0dabd3b8825d\">\n",
              "    <div class=\"colab-df-container\">\n",
              "      <div>\n",
              "<style scoped>\n",
              "    .dataframe tbody tr th:only-of-type {\n",
              "        vertical-align: middle;\n",
              "    }\n",
              "\n",
              "    .dataframe tbody tr th {\n",
              "        vertical-align: top;\n",
              "    }\n",
              "\n",
              "    .dataframe thead th {\n",
              "        text-align: right;\n",
              "    }\n",
              "</style>\n",
              "<table border=\"1\" class=\"dataframe\">\n",
              "  <thead>\n",
              "    <tr style=\"text-align: right;\">\n",
              "      <th></th>\n",
              "      <th>hrId</th>\n",
              "      <th>type</th>\n",
              "      <th>ierId</th>\n",
              "      <th>point</th>\n",
              "      <th>state</th>\n",
              "      <th>action</th>\n",
              "      <th>cardId</th>\n",
              "      <th>region</th>\n",
              "      <th>ierType</th>\n",
              "      <th>cityCode</th>\n",
              "      <th>regionId</th>\n",
              "      <th>cityFiasId</th>\n",
              "      <th>membership</th>\n",
              "      <th>streetCode</th>\n",
              "      <th>timeIsoStr</th>\n",
              "      <th>isChemFlood</th>\n",
              "      <th>dispatchesId</th>\n",
              "      <th>districtCode</th>\n",
              "      <th>streetFiasId</th>\n",
              "      <th>clarification</th>\n",
              "      <th>assignTimeIsoStr</th>\n",
              "      <th>month</th>\n",
              "      <th>year</th>\n",
              "      <th>weekday</th>\n",
              "      <th>day</th>\n",
              "      <th>hour</th>\n",
              "      <th>Тип_обращения</th>\n",
              "      <th>Статус_обращения</th>\n",
              "    </tr>\n",
              "  </thead>\n",
              "  <tbody>\n",
              "    <tr>\n",
              "      <th>0</th>\n",
              "      <td>авг11_СлучНабор_213</td>\n",
              "      <td>Случайный набор номера                        ...</td>\n",
              "      <td>d0cacbea-1791-4d46-9b4f-ad81009eb164</td>\n",
              "      <td>[{\"lat\": 48.8031, \"lon\": 44.7532}]            ...</td>\n",
              "      <td>Карточка закрыта</td>\n",
              "      <td>[NULL]                                        ...</td>\n",
              "      <td>0c9bcba0-de53-4942-83f2-ad81009ee057</td>\n",
              "      <td>Волгоград Ворошиловский</td>\n",
              "      <td>Телефонный звонок</td>\n",
              "      <td>[NULL]</td>\n",
              "      <td>10</td>\n",
              "      <td>[NULL]</td>\n",
              "      <td>...</td>\n",
              "      <td>[NULL]</td>\n",
              "      <td>2021-08-11 09:38:27</td>\n",
              "      <td>false</td>\n",
              "      <td>[NULL]                                        ...</td>\n",
              "      <td>[NULL]</td>\n",
              "      <td>[NULL]</td>\n",
              "      <td>[NULL]</td>\n",
              "      <td></td>\n",
              "      <td>8</td>\n",
              "      <td>2021</td>\n",
              "      <td>2</td>\n",
              "      <td>11</td>\n",
              "      <td>9</td>\n",
              "      <td>418</td>\n",
              "      <td>3</td>\n",
              "    </tr>\n",
              "    <tr>\n",
              "      <th>1</th>\n",
              "      <td>авг15_СлучНабор_122</td>\n",
              "      <td>Случайный набор номера                        ...</td>\n",
              "      <td>c3b8c2c3-6419-4b88-bfbb-ad85009a733f</td>\n",
              "      <td>[{\"lat\": 48.7414, \"lon\": 44.5453}]            ...</td>\n",
              "      <td>Карточка закрыта</td>\n",
              "      <td>[NULL]                                        ...</td>\n",
              "      <td>963f0751-961a-4761-b205-ad85009a7f89</td>\n",
              "      <td>Волгоград Ворошиловский</td>\n",
              "      <td>Телефонный звонок</td>\n",
              "      <td>[NULL]</td>\n",
              "      <td>10</td>\n",
              "      <td>[NULL]</td>\n",
              "      <td>...</td>\n",
              "      <td>[NULL]</td>\n",
              "      <td>2021-08-15 09:22:30</td>\n",
              "      <td>false</td>\n",
              "      <td>[NULL]                                        ...</td>\n",
              "      <td>[NULL]</td>\n",
              "      <td>[NULL]</td>\n",
              "      <td>[NULL]</td>\n",
              "      <td></td>\n",
              "      <td>8</td>\n",
              "      <td>2021</td>\n",
              "      <td>6</td>\n",
              "      <td>15</td>\n",
              "      <td>9</td>\n",
              "      <td>418</td>\n",
              "      <td>3</td>\n",
              "    </tr>\n",
              "    <tr>\n",
              "      <th>2</th>\n",
              "      <td>авг09_Молчание_150</td>\n",
              "      <td>Вызов с молчанием                             ...</td>\n",
              "      <td>f3be67f9-83e9-4888-910a-ad7f009ae335</td>\n",
              "      <td>[{\"lat\": 48.8061, \"lon\": 44.7559}]            ...</td>\n",
              "      <td>Карточка закрыта</td>\n",
              "      <td>[NULL]                                        ...</td>\n",
              "      <td>d404c079-19a0-4a9c-8ca2-ad7f009af53e</td>\n",
              "      <td>Волгоград Ворошиловский</td>\n",
              "      <td>Телефонный звонок</td>\n",
              "      <td>[NULL]</td>\n",
              "      <td>10</td>\n",
              "      <td>[NULL]</td>\n",
              "      <td>...</td>\n",
              "      <td>[NULL]</td>\n",
              "      <td>2021-08-09 09:24:11</td>\n",
              "      <td>false</td>\n",
              "      <td>[NULL]                                        ...</td>\n",
              "      <td>[NULL]</td>\n",
              "      <td>[NULL]</td>\n",
              "      <td>[NULL]</td>\n",
              "      <td></td>\n",
              "      <td>8</td>\n",
              "      <td>2021</td>\n",
              "      <td>0</td>\n",
              "      <td>9</td>\n",
              "      <td>9</td>\n",
              "      <td>99</td>\n",
              "      <td>3</td>\n",
              "    </tr>\n",
              "  </tbody>\n",
              "</table>\n",
              "</div>\n",
              "      <button class=\"colab-df-convert\" onclick=\"convertToInteractive('df-3260d694-86e5-4ba2-be06-0dabd3b8825d')\"\n",
              "              title=\"Convert this dataframe to an interactive table.\"\n",
              "              style=\"display:none;\">\n",
              "        \n",
              "  <svg xmlns=\"http://www.w3.org/2000/svg\" height=\"24px\"viewBox=\"0 0 24 24\"\n",
              "       width=\"24px\">\n",
              "    <path d=\"M0 0h24v24H0V0z\" fill=\"none\"/>\n",
              "    <path d=\"M18.56 5.44l.94 2.06.94-2.06 2.06-.94-2.06-.94-.94-2.06-.94 2.06-2.06.94zm-11 1L8.5 8.5l.94-2.06 2.06-.94-2.06-.94L8.5 2.5l-.94 2.06-2.06.94zm10 10l.94 2.06.94-2.06 2.06-.94-2.06-.94-.94-2.06-.94 2.06-2.06.94z\"/><path d=\"M17.41 7.96l-1.37-1.37c-.4-.4-.92-.59-1.43-.59-.52 0-1.04.2-1.43.59L10.3 9.45l-7.72 7.72c-.78.78-.78 2.05 0 2.83L4 21.41c.39.39.9.59 1.41.59.51 0 1.02-.2 1.41-.59l7.78-7.78 2.81-2.81c.8-.78.8-2.07 0-2.86zM5.41 20L4 18.59l7.72-7.72 1.47 1.35L5.41 20z\"/>\n",
              "  </svg>\n",
              "      </button>\n",
              "      \n",
              "  <style>\n",
              "    .colab-df-container {\n",
              "      display:flex;\n",
              "      flex-wrap:wrap;\n",
              "      gap: 12px;\n",
              "    }\n",
              "\n",
              "    .colab-df-convert {\n",
              "      background-color: #E8F0FE;\n",
              "      border: none;\n",
              "      border-radius: 50%;\n",
              "      cursor: pointer;\n",
              "      display: none;\n",
              "      fill: #1967D2;\n",
              "      height: 32px;\n",
              "      padding: 0 0 0 0;\n",
              "      width: 32px;\n",
              "    }\n",
              "\n",
              "    .colab-df-convert:hover {\n",
              "      background-color: #E2EBFA;\n",
              "      box-shadow: 0px 1px 2px rgba(60, 64, 67, 0.3), 0px 1px 3px 1px rgba(60, 64, 67, 0.15);\n",
              "      fill: #174EA6;\n",
              "    }\n",
              "\n",
              "    [theme=dark] .colab-df-convert {\n",
              "      background-color: #3B4455;\n",
              "      fill: #D2E3FC;\n",
              "    }\n",
              "\n",
              "    [theme=dark] .colab-df-convert:hover {\n",
              "      background-color: #434B5C;\n",
              "      box-shadow: 0px 1px 3px 1px rgba(0, 0, 0, 0.15);\n",
              "      filter: drop-shadow(0px 1px 2px rgba(0, 0, 0, 0.3));\n",
              "      fill: #FFFFFF;\n",
              "    }\n",
              "  </style>\n",
              "\n",
              "      <script>\n",
              "        const buttonEl =\n",
              "          document.querySelector('#df-3260d694-86e5-4ba2-be06-0dabd3b8825d button.colab-df-convert');\n",
              "        buttonEl.style.display =\n",
              "          google.colab.kernel.accessAllowed ? 'block' : 'none';\n",
              "\n",
              "        async function convertToInteractive(key) {\n",
              "          const element = document.querySelector('#df-3260d694-86e5-4ba2-be06-0dabd3b8825d');\n",
              "          const dataTable =\n",
              "            await google.colab.kernel.invokeFunction('convertToInteractive',\n",
              "                                                     [key], {});\n",
              "          if (!dataTable) return;\n",
              "\n",
              "          const docLinkHtml = 'Like what you see? Visit the ' +\n",
              "            '<a target=\"_blank\" href=https://colab.research.google.com/notebooks/data_table.ipynb>data table notebook</a>'\n",
              "            + ' to learn more about interactive tables.';\n",
              "          element.innerHTML = '';\n",
              "          dataTable['output_type'] = 'display_data';\n",
              "          await google.colab.output.renderOutput(dataTable, element);\n",
              "          const docLink = document.createElement('div');\n",
              "          docLink.innerHTML = docLinkHtml;\n",
              "          element.appendChild(docLink);\n",
              "        }\n",
              "      </script>\n",
              "    </div>\n",
              "  </div>\n",
              "  "
            ]
          },
          "metadata": {},
          "execution_count": 238
        }
      ]
    }
  ]
}